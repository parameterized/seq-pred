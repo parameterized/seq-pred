{
 "cells": [
  {
   "cell_type": "code",
   "execution_count": 1,
   "metadata": {},
   "outputs": [
    {
     "name": "stderr",
     "output_type": "stream",
     "text": [
      "c:\\users\\troy\\anaconda3\\lib\\site-packages\\h5py\\__init__.py:34: FutureWarning: Conversion of the second argument of issubdtype from `float` to `np.floating` is deprecated. In future, it will be treated as `np.float64 == np.dtype(float).type`.\n",
      "  from ._conv import register_converters as _register_converters\n",
      "Using TensorFlow backend.\n"
     ]
    }
   ],
   "source": [
    "import numpy as np\n",
    "import time\n",
    "import sys\n",
    "\n",
    "from keras.models import Model, load_model\n",
    "from keras.layers import Input, Embedding, Conv1D, Multiply\n",
    "from keras.optimizers import Adam\n",
    "from keras.callbacks import LambdaCallback\n",
    "from keras.utils.data_utils import get_file\n",
    "\n",
    "from keras_tqdm import TQDMNotebookCallback"
   ]
  },
  {
   "cell_type": "code",
   "execution_count": 2,
   "metadata": {},
   "outputs": [
    {
     "name": "stdout",
     "output_type": "stream",
     "text": [
      "corpus length: 600893\n",
      "total chars: 57\n"
     ]
    }
   ],
   "source": [
    "path = get_file('nietzsche.txt', origin='https://s3.amazonaws.com/text-datasets/nietzsche.txt')\n",
    "with open(path, encoding='utf-8') as f:\n",
    "    text = f.read().lower()\n",
    "print('corpus length:', len(text))\n",
    "\n",
    "chars = sorted(list(set(text)))\n",
    "print('total chars:', len(chars))\n",
    "char2idx = {c: i for i, c in enumerate(chars)}\n",
    "idx2char = {i: c for i, c in enumerate(chars)}"
   ]
  },
  {
   "cell_type": "code",
   "execution_count": 3,
   "metadata": {},
   "outputs": [],
   "source": [
    "num_groups = 1\n",
    "num_layers = 6\n",
    "num_filters = 64\n",
    "batch_size = 16\n",
    "batch_len = 2**num_layers * 2"
   ]
  },
  {
   "cell_type": "code",
   "execution_count": 4,
   "metadata": {},
   "outputs": [
    {
     "name": "stdout",
     "output_type": "stream",
     "text": [
      "nb sequences: 200255\n"
     ]
    }
   ],
   "source": [
    "step = 3\n",
    "sentences = []\n",
    "for i in range(0, len(text) - batch_len - 1, step):\n",
    "    sentences.append(text[i:i + batch_len + 1])\n",
    "print('nb sequences:', len(sentences))\n",
    "\n",
    "x = np.zeros((len(sentences), batch_len)).astype('int32')\n",
    "y = np.zeros((len(sentences), batch_len, len(chars))).astype('int32')\n",
    "for i, sentence in enumerate(sentences):\n",
    "    for j, char in enumerate(sentence[:-1]):\n",
    "        x[i, j] = char2idx[char]\n",
    "    for j, char in enumerate(sentence[1:]):\n",
    "        y[i, j, char2idx[char]] = 1"
   ]
  },
  {
   "cell_type": "code",
   "execution_count": 5,
   "metadata": {},
   "outputs": [],
   "source": [
    "l_in = Input(shape=(None,), dtype='int32')\n",
    "h = Embedding(input_dim=len(chars), output_dim=num_filters)(l_in)\n",
    "for i in range(num_groups):\n",
    "    for j in range(num_layers):\n",
    "        l_filter = Conv1D(filters=num_filters, kernel_size=2,\n",
    "            dilation_rate=2**j, padding='causal', activation='tanh')(h)\n",
    "        l_gate = Conv1D(filters=num_filters, kernel_size=2,\n",
    "            dilation_rate=2**j, padding='causal', activation='sigmoid')(h)\n",
    "        h = Multiply()([l_filter, l_gate])\n",
    "l_out = Conv1D(filters=len(chars), kernel_size=1, activation='softmax')(h)\n",
    "\n",
    "model = Model(inputs=l_in, outputs=l_out)\n",
    "\n",
    "adam = Adam(0.002)\n",
    "model.compile(optimizer=adam, loss='categorical_crossentropy')"
   ]
  },
  {
   "cell_type": "code",
   "execution_count": 6,
   "metadata": {},
   "outputs": [
    {
     "name": "stdout",
     "output_type": "stream",
     "text": [
      "____________________________________________________________________________________________________\n",
      "Layer (type)                     Output Shape          Param #     Connected to                     \n",
      "====================================================================================================\n",
      "input_1 (InputLayer)             (None, None)          0                                            \n",
      "____________________________________________________________________________________________________\n",
      "embedding_1 (Embedding)          (None, None, 64)      3648        input_1[0][0]                    \n",
      "____________________________________________________________________________________________________\n",
      "conv1d_1 (Conv1D)                (None, None, 64)      8256        embedding_1[0][0]                \n",
      "____________________________________________________________________________________________________\n",
      "conv1d_2 (Conv1D)                (None, None, 64)      8256        embedding_1[0][0]                \n",
      "____________________________________________________________________________________________________\n",
      "multiply_1 (Multiply)            (None, None, 64)      0           conv1d_1[0][0]                   \n",
      "                                                                   conv1d_2[0][0]                   \n",
      "____________________________________________________________________________________________________\n",
      "conv1d_3 (Conv1D)                (None, None, 64)      8256        multiply_1[0][0]                 \n",
      "____________________________________________________________________________________________________\n",
      "conv1d_4 (Conv1D)                (None, None, 64)      8256        multiply_1[0][0]                 \n",
      "____________________________________________________________________________________________________\n",
      "multiply_2 (Multiply)            (None, None, 64)      0           conv1d_3[0][0]                   \n",
      "                                                                   conv1d_4[0][0]                   \n",
      "____________________________________________________________________________________________________\n",
      "conv1d_5 (Conv1D)                (None, None, 64)      8256        multiply_2[0][0]                 \n",
      "____________________________________________________________________________________________________\n",
      "conv1d_6 (Conv1D)                (None, None, 64)      8256        multiply_2[0][0]                 \n",
      "____________________________________________________________________________________________________\n",
      "multiply_3 (Multiply)            (None, None, 64)      0           conv1d_5[0][0]                   \n",
      "                                                                   conv1d_6[0][0]                   \n",
      "____________________________________________________________________________________________________\n",
      "conv1d_7 (Conv1D)                (None, None, 64)      8256        multiply_3[0][0]                 \n",
      "____________________________________________________________________________________________________\n",
      "conv1d_8 (Conv1D)                (None, None, 64)      8256        multiply_3[0][0]                 \n",
      "____________________________________________________________________________________________________\n",
      "multiply_4 (Multiply)            (None, None, 64)      0           conv1d_7[0][0]                   \n",
      "                                                                   conv1d_8[0][0]                   \n",
      "____________________________________________________________________________________________________\n",
      "conv1d_9 (Conv1D)                (None, None, 64)      8256        multiply_4[0][0]                 \n",
      "____________________________________________________________________________________________________\n",
      "conv1d_10 (Conv1D)               (None, None, 64)      8256        multiply_4[0][0]                 \n",
      "____________________________________________________________________________________________________\n",
      "multiply_5 (Multiply)            (None, None, 64)      0           conv1d_9[0][0]                   \n",
      "                                                                   conv1d_10[0][0]                  \n",
      "____________________________________________________________________________________________________\n",
      "conv1d_11 (Conv1D)               (None, None, 64)      8256        multiply_5[0][0]                 \n",
      "____________________________________________________________________________________________________\n",
      "conv1d_12 (Conv1D)               (None, None, 64)      8256        multiply_5[0][0]                 \n",
      "____________________________________________________________________________________________________\n",
      "multiply_6 (Multiply)            (None, None, 64)      0           conv1d_11[0][0]                  \n",
      "                                                                   conv1d_12[0][0]                  \n",
      "____________________________________________________________________________________________________\n",
      "conv1d_13 (Conv1D)               (None, None, 57)      3705        multiply_6[0][0]                 \n",
      "====================================================================================================\n",
      "Total params: 106,425\n",
      "Trainable params: 106,425\n",
      "Non-trainable params: 0\n",
      "____________________________________________________________________________________________________\n",
      "None\n"
     ]
    }
   ],
   "source": [
    "print(model.summary())"
   ]
  },
  {
   "cell_type": "code",
   "execution_count": 7,
   "metadata": {},
   "outputs": [],
   "source": [
    "def sample(preds, temperature=1.0):\n",
    "    preds = np.asarray(preds).astype('float64')\n",
    "    preds = np.log(preds) / temperature\n",
    "    exp_preds = np.exp(preds)\n",
    "    preds = exp_preds / np.sum(exp_preds)\n",
    "    probas = np.random.multinomial(1, preds, 1)\n",
    "    return np.argmax(probas)"
   ]
  },
  {
   "cell_type": "code",
   "execution_count": 8,
   "metadata": {},
   "outputs": [],
   "source": [
    "def on_epoch_end(epoch, logs):\n",
    "    print('-- epoch {0}'.format(epoch))\n",
    "    start_index = np.random.randint(len(text) - 2**num_layers - 1)\n",
    "    for diversity in [0.2, 0.5, 1.0, 1.2]:\n",
    "        print('-- diversity: {0}'.format(diversity))\n",
    "        sentence = text[start_index:start_index + 2**num_layers]\n",
    "        print('-- generating with seed: \"{0}\"'.format(sentence))\n",
    "        sys.stdout.write(sentence)\n",
    "        for i in range(400):\n",
    "            x = np.array([char2idx[c] for c in sentence])\n",
    "            y = model.predict(np.array([x]))\n",
    "            y = sample(y[0, -1])\n",
    "            c = idx2char[y]\n",
    "            sentence = sentence[1:] + c\n",
    "            sys.stdout.write(c)\n",
    "            sys.stdout.flush()\n",
    "        print()\n",
    "\n",
    "print_callback = LambdaCallback(on_epoch_end=on_epoch_end)"
   ]
  },
  {
   "cell_type": "code",
   "execution_count": 9,
   "metadata": {},
   "outputs": [
    {
     "data": {
      "application/vnd.jupyter.widget-view+json": {
       "model_id": "b617db3e54fb40cfa80c2501b0319266",
       "version_major": 2,
       "version_minor": 0
      },
      "text/html": [
       "<p>Failed to display Jupyter Widget of type <code>HBox</code>.</p>\n",
       "<p>\n",
       "  If you're reading this message in the Jupyter Notebook or JupyterLab Notebook, it may mean\n",
       "  that the widgets JavaScript is still loading. If this message persists, it\n",
       "  likely means that the widgets JavaScript library is either not installed or\n",
       "  not enabled. See the <a href=\"https://ipywidgets.readthedocs.io/en/stable/user_install.html\">Jupyter\n",
       "  Widgets Documentation</a> for setup instructions.\n",
       "</p>\n",
       "<p>\n",
       "  If you're reading this message in another frontend (for example, a static\n",
       "  rendering on GitHub or <a href=\"https://nbviewer.jupyter.org/\">NBViewer</a>),\n",
       "  it may mean that your frontend doesn't currently support widgets.\n",
       "</p>\n"
      ],
      "text/plain": [
       "HBox(children=(IntProgress(value=0, description='Training', max=60), HTML(value='')))"
      ]
     },
     "metadata": {},
     "output_type": "display_data"
    },
    {
     "data": {
      "application/vnd.jupyter.widget-view+json": {
       "model_id": "",
       "version_major": 2,
       "version_minor": 0
      },
      "text/html": [
       "<p>Failed to display Jupyter Widget of type <code>HBox</code>.</p>\n",
       "<p>\n",
       "  If you're reading this message in the Jupyter Notebook or JupyterLab Notebook, it may mean\n",
       "  that the widgets JavaScript is still loading. If this message persists, it\n",
       "  likely means that the widgets JavaScript library is either not installed or\n",
       "  not enabled. See the <a href=\"https://ipywidgets.readthedocs.io/en/stable/user_install.html\">Jupyter\n",
       "  Widgets Documentation</a> for setup instructions.\n",
       "</p>\n",
       "<p>\n",
       "  If you're reading this message in another frontend (for example, a static\n",
       "  rendering on GitHub or <a href=\"https://nbviewer.jupyter.org/\">NBViewer</a>),\n",
       "  it may mean that your frontend doesn't currently support widgets.\n",
       "</p>\n"
      ],
      "text/plain": [
       "HBox(children=(IntProgress(value=0, description='Epoch 0', max=200255), HTML(value='')))"
      ]
     },
     "metadata": {},
     "output_type": "display_data"
    },
    {
     "name": "stdout",
     "output_type": "stream",
     "text": [
      "-- epoch 0\n",
      "-- diversity: 0.2\n",
      "-- generating with seed: \" compressed too tightly to permit\n",
      "of any circulation of the bloo\"\n",
      " compressed too tightly to permit\n",
      "of any circulation of the blood-delight, under, the besion our bose\n",
      "master critissination. or the frunse of religious praying wroes to\n",
      "was is not to be eydly an facturip\n",
      "the dangerous, lackot of another outions, that while or wantauter as a means our thinking unish many in a skeptive them to conceal numatism, in a certainly conimmense of air and that\n",
      "would be concede, whenulerving of all much resturms is spoteness; and sigzpin\n",
      "-- diversity: 0.5\n",
      "-- generating with seed: \" compressed too tightly to permit\n",
      "of any circulation of the bloo\"\n",
      " compressed too tightly to permit\n",
      "of any circulation of the bloodi--this mlint pain of conduction and vice mode!\n",
      "\n",
      "\n",
      "\n",
      "40\n",
      "\n",
      "=whole spirit; as his spirit as bad to grimainnator when their (which can presence), obvious man? seneal flughtly; to the lacking\n",
      "now have dogma oul hightness, as in the knowing other many of flir nevilic foregreat all the work to\n",
      "life the acquire seems is cour. from the position are down reality of goldess? require of gransw. but with an our\n",
      "-- diversity: 1.0\n",
      "-- generating with seed: \" compressed too tightly to permit\n",
      "of any circulation of the bloo\"\n",
      " compressed too tightly to permit\n",
      "of any circulation of the blood\" of which is this\n",
      "problems\n",
      "beings to ouncelight appearance seclish in a twet \"read to say; the\n",
      "worth we ghow it over allx only the creature, duller and\n",
      "foregreater, this did present of distrust will professy fation,\n",
      "a loed-and master that this very pureo heafter, asia, and world which know that it is not the\n",
      "evuch hikes sun of by an inflicts to be\n",
      "him depmlugineiond, in their age, birdles this a\n",
      "-- diversity: 1.2\n",
      "-- generating with seed: \" compressed too tightly to permit\n",
      "of any circulation of the bloo\"\n",
      " compressed too tightly to permit\n",
      "of any circulation of the blood of causes pant aum, however, cast the\n",
      "reverence: will benevolence comprehention to these meanturilling, and were\n",
      "bave,\n",
      "like crother question and his poet croviden to him--and the nature craftiniality, to shameises uncolfir of their clopment forgs to learn martaine servend. but that the anfording\n",
      "of this takes pity ancient mosing, involrent; he one overself and to wes, (the sciens of gratical abo\n"
     ]
    },
    {
     "data": {
      "application/vnd.jupyter.widget-view+json": {
       "model_id": "",
       "version_major": 2,
       "version_minor": 0
      },
      "text/html": [
       "<p>Failed to display Jupyter Widget of type <code>HBox</code>.</p>\n",
       "<p>\n",
       "  If you're reading this message in the Jupyter Notebook or JupyterLab Notebook, it may mean\n",
       "  that the widgets JavaScript is still loading. If this message persists, it\n",
       "  likely means that the widgets JavaScript library is either not installed or\n",
       "  not enabled. See the <a href=\"https://ipywidgets.readthedocs.io/en/stable/user_install.html\">Jupyter\n",
       "  Widgets Documentation</a> for setup instructions.\n",
       "</p>\n",
       "<p>\n",
       "  If you're reading this message in another frontend (for example, a static\n",
       "  rendering on GitHub or <a href=\"https://nbviewer.jupyter.org/\">NBViewer</a>),\n",
       "  it may mean that your frontend doesn't currently support widgets.\n",
       "</p>\n"
      ],
      "text/plain": [
       "HBox(children=(IntProgress(value=0, description='Epoch 1', max=200255), HTML(value='')))"
      ]
     },
     "metadata": {},
     "output_type": "display_data"
    },
    {
     "name": "stdout",
     "output_type": "stream",
     "text": [
      "-- epoch 1\n",
      "-- diversity: 0.2\n",
      "-- generating with seed: \"at is when it is a matter of self preservation. but these\n",
      "two po\"\n",
      "at is when it is a matter of self preservation. but these\n",
      "two poucopiting\n",
      "upon, it is only we dopted impulse,, is atwaild above all well-point of willy is seems take, he\n",
      "strongest during snatter and preliminary, to wait religiousness-refards of his\n",
      "\"man--what, howeth our origin the value even admiration as the\n",
      "cucutes of the inclination whom abdeed and thousands\n",
      "outside it, agiscion\n",
      "little of everything that imaginately wel rudding believer on the\n",
      "fact that ex\n",
      "-- diversity: 0.5\n",
      "-- generating with seed: \"at is when it is a matter of self preservation. but these\n",
      "two po\"\n",
      "at is when it is a matter of self preservation. but these\n",
      "two point; sonaties and lap) or wagmted!\n",
      "\n",
      "\n",
      "126\n",
      "\n",
      "=benected will,\".=--the roous feet nobn of courp,\n",
      "this distance tronenly, it\n",
      "never need\"like the contordinary become hangoenstantly considered\n",
      "person\n",
      "here ensuitions of strokes of eagernernated ventures to paoral; and who earth origin\n",
      "and far, hence that\n",
      "you under for counting wherever endured as only them is the desir desorme manity, \"ant most cast before\n",
      "-- diversity: 1.0\n",
      "-- generating with seed: \"at is when it is a matter of self preservation. but these\n",
      "two po\"\n",
      "at is when it is a matter of self preservation. but these\n",
      "two possess is guiltate there sictle\n",
      "baposod into age, and if many persons to the protectors the notions opportural,\n",
      "consequently. in it created preas, calprations, it is so canced with everything is not dreadom an etently from one neithen,\" or self-miltarics; it is a germanicious? and will a perhal in ly such as to exporth times. in the strabne, with a finer to bow wrandance of the\n",
      "question of\n",
      "every an\n",
      "-- diversity: 1.2\n",
      "-- generating with seed: \"at is when it is a matter of self preservation. but these\n",
      "two po\"\n",
      "at is when it is a matter of self preservation. but these\n",
      "two points.=--to find will the\n",
      "eduder--i warm attempt as the hees. word and has always reasonable down consider, witherpunsies as they victive cancern in the\n",
      "clouds thereby will some conditional, orticle; as the brainfiction is\n",
      "among thereby other manifanse escances, developed judgpabary itself perhaps more considerareous coarser what is conditional man? in portenty and seaded than the most strong of su\n"
     ]
    },
    {
     "data": {
      "application/vnd.jupyter.widget-view+json": {
       "model_id": "",
       "version_major": 2,
       "version_minor": 0
      },
      "text/html": [
       "<p>Failed to display Jupyter Widget of type <code>HBox</code>.</p>\n",
       "<p>\n",
       "  If you're reading this message in the Jupyter Notebook or JupyterLab Notebook, it may mean\n",
       "  that the widgets JavaScript is still loading. If this message persists, it\n",
       "  likely means that the widgets JavaScript library is either not installed or\n",
       "  not enabled. See the <a href=\"https://ipywidgets.readthedocs.io/en/stable/user_install.html\">Jupyter\n",
       "  Widgets Documentation</a> for setup instructions.\n",
       "</p>\n",
       "<p>\n",
       "  If you're reading this message in another frontend (for example, a static\n",
       "  rendering on GitHub or <a href=\"https://nbviewer.jupyter.org/\">NBViewer</a>),\n",
       "  it may mean that your frontend doesn't currently support widgets.\n",
       "</p>\n"
      ],
      "text/plain": [
       "HBox(children=(IntProgress(value=0, description='Epoch 2', max=200255), HTML(value='')))"
      ]
     },
     "metadata": {},
     "output_type": "display_data"
    },
    {
     "name": "stdout",
     "output_type": "stream",
     "text": [
      "-- epoch 2\n",
      "-- diversity: 0.2\n",
      "-- generating with seed: \"fe is to be further\n",
      "developed), he will suffer from such a view \"\n",
      "fe is to be further\n",
      "developed), he will suffer from such a view their of slegenered\n",
      "guaits. condant man.\n",
      "it the wild, and faltwabit: however,\" but by\n",
      "renoo god ofy\n",
      "nature, makate,\n",
      "that is the\n",
      "ear of its own persons\n",
      "severe over usege) to lichty\n",
      "are best have edugieness. longing long end fastering and madame  some france of injurious greators (or wisynow of such after sciences lolr) of proves means us apprequences an thodegamd too. profoundly in contemporarily \"\n",
      "-- diversity: 0.5\n",
      "-- generating with seed: \"fe is to be further\n",
      "developed), he will suffer from such a view \"\n",
      "fe is to be further\n",
      "developed), he will suffer from such a view of the kulphulociening and colours, nusk to-dodoae of \"the are threat\n",
      "learned widity, a churmolence; and german lawler ort about those will; o'art\n",
      "become play of read in fact grown suffer less--is have an a hoobility that leads most progredness in egoism and charges of deal\n",
      "teasss:--the emolve untranf of the charity of\n",
      "much no have constant himself as lower self.\n",
      "it the uf man, there are hardly\n",
      "lo\n",
      "-- diversity: 1.0\n",
      "-- generating with seed: \"fe is to be further\n",
      "developed), he will suffer from such a view \"\n",
      "fe is to be further\n",
      "developed), he will suffer from such a view of the lesse feelings of ethic belief with capable seek taste \"one has leglies and mark, however those of the that it is \"rendered so only sweet\n",
      "seduftic; after all\n",
      "from too merit will no\n",
      "last the chwequent of instinctive penite, until,\n",
      "  , far from the most\n",
      "concerned: glances the un senjoy morals festaration. the obtained as the guml of grand each be most resper is possible to mut it is an gueion\n",
      "-- diversity: 1.2\n",
      "-- generating with seed: \"fe is to be further\n",
      "developed), he will suffer from such a view \"\n",
      "fe is to be further\n",
      "developed), he will suffer from such a view of a nalady, necessacy,\n",
      "troken.\n",
      "\n",
      "\n",
      "18\n",
      "\n",
      "=no comparred christianitys; the multires: a sense dislothis even-stare upon this\n",
      "danger (frangence of this obliged morality--each? but\"\n",
      "now in\n",
      "rund what i am additioned--we\n",
      "neech) what the booking regardless of mordh empecsation of conplece ideving has been, unses we\n",
      "out, may be explained and falsely woman, are common and keent about the man force of our thin\n"
     ]
    },
    {
     "data": {
      "application/vnd.jupyter.widget-view+json": {
       "model_id": "b8326efd64e94cac84bd93ff1aa8f69a",
       "version_major": 2,
       "version_minor": 0
      },
      "text/html": [
       "<p>Failed to display Jupyter Widget of type <code>HBox</code>.</p>\n",
       "<p>\n",
       "  If you're reading this message in the Jupyter Notebook or JupyterLab Notebook, it may mean\n",
       "  that the widgets JavaScript is still loading. If this message persists, it\n",
       "  likely means that the widgets JavaScript library is either not installed or\n",
       "  not enabled. See the <a href=\"https://ipywidgets.readthedocs.io/en/stable/user_install.html\">Jupyter\n",
       "  Widgets Documentation</a> for setup instructions.\n",
       "</p>\n",
       "<p>\n",
       "  If you're reading this message in another frontend (for example, a static\n",
       "  rendering on GitHub or <a href=\"https://nbviewer.jupyter.org/\">NBViewer</a>),\n",
       "  it may mean that your frontend doesn't currently support widgets.\n",
       "</p>\n"
      ],
      "text/plain": [
       "HBox(children=(IntProgress(value=0, description='Epoch 3', max=200255), HTML(value='')))"
      ]
     },
     "metadata": {},
     "output_type": "display_data"
    },
    {
     "ename": "KeyboardInterrupt",
     "evalue": "",
     "output_type": "error",
     "traceback": [
      "\u001b[1;31m---------------------------------------------------------------------------\u001b[0m",
      "\u001b[1;31mKeyboardInterrupt\u001b[0m                         Traceback (most recent call last)",
      "\u001b[1;32m<ipython-input-9-fbdabe1fed14>\u001b[0m in \u001b[0;36m<module>\u001b[1;34m()\u001b[0m\n\u001b[0;32m      1\u001b[0m model.fit(x, y, batch_size=batch_size, epochs=60,\n\u001b[1;32m----> 2\u001b[1;33m           verbose=0, callbacks=[TQDMNotebookCallback(), print_callback])\n\u001b[0m",
      "\u001b[1;32mc:\\users\\troy\\anaconda3\\lib\\site-packages\\keras\\engine\\training.py\u001b[0m in \u001b[0;36mfit\u001b[1;34m(self, x, y, batch_size, epochs, verbose, callbacks, validation_split, validation_data, shuffle, class_weight, sample_weight, initial_epoch, **kwargs)\u001b[0m\n\u001b[0;32m   1428\u001b[0m                               \u001b[0mval_f\u001b[0m\u001b[1;33m=\u001b[0m\u001b[0mval_f\u001b[0m\u001b[1;33m,\u001b[0m \u001b[0mval_ins\u001b[0m\u001b[1;33m=\u001b[0m\u001b[0mval_ins\u001b[0m\u001b[1;33m,\u001b[0m \u001b[0mshuffle\u001b[0m\u001b[1;33m=\u001b[0m\u001b[0mshuffle\u001b[0m\u001b[1;33m,\u001b[0m\u001b[1;33m\u001b[0m\u001b[0m\n\u001b[0;32m   1429\u001b[0m                               \u001b[0mcallback_metrics\u001b[0m\u001b[1;33m=\u001b[0m\u001b[0mcallback_metrics\u001b[0m\u001b[1;33m,\u001b[0m\u001b[1;33m\u001b[0m\u001b[0m\n\u001b[1;32m-> 1430\u001b[1;33m                               initial_epoch=initial_epoch)\n\u001b[0m\u001b[0;32m   1431\u001b[0m \u001b[1;33m\u001b[0m\u001b[0m\n\u001b[0;32m   1432\u001b[0m     \u001b[1;32mdef\u001b[0m \u001b[0mevaluate\u001b[0m\u001b[1;33m(\u001b[0m\u001b[0mself\u001b[0m\u001b[1;33m,\u001b[0m \u001b[0mx\u001b[0m\u001b[1;33m,\u001b[0m \u001b[0my\u001b[0m\u001b[1;33m,\u001b[0m \u001b[0mbatch_size\u001b[0m\u001b[1;33m=\u001b[0m\u001b[1;36m32\u001b[0m\u001b[1;33m,\u001b[0m \u001b[0mverbose\u001b[0m\u001b[1;33m=\u001b[0m\u001b[1;36m1\u001b[0m\u001b[1;33m,\u001b[0m \u001b[0msample_weight\u001b[0m\u001b[1;33m=\u001b[0m\u001b[1;32mNone\u001b[0m\u001b[1;33m)\u001b[0m\u001b[1;33m:\u001b[0m\u001b[1;33m\u001b[0m\u001b[0m\n",
      "\u001b[1;32mc:\\users\\troy\\anaconda3\\lib\\site-packages\\keras\\engine\\training.py\u001b[0m in \u001b[0;36m_fit_loop\u001b[1;34m(self, f, ins, out_labels, batch_size, epochs, verbose, callbacks, val_f, val_ins, shuffle, callback_metrics, initial_epoch)\u001b[0m\n\u001b[0;32m   1077\u001b[0m                 \u001b[0mbatch_logs\u001b[0m\u001b[1;33m[\u001b[0m\u001b[1;34m'size'\u001b[0m\u001b[1;33m]\u001b[0m \u001b[1;33m=\u001b[0m \u001b[0mlen\u001b[0m\u001b[1;33m(\u001b[0m\u001b[0mbatch_ids\u001b[0m\u001b[1;33m)\u001b[0m\u001b[1;33m\u001b[0m\u001b[0m\n\u001b[0;32m   1078\u001b[0m                 \u001b[0mcallbacks\u001b[0m\u001b[1;33m.\u001b[0m\u001b[0mon_batch_begin\u001b[0m\u001b[1;33m(\u001b[0m\u001b[0mbatch_index\u001b[0m\u001b[1;33m,\u001b[0m \u001b[0mbatch_logs\u001b[0m\u001b[1;33m)\u001b[0m\u001b[1;33m\u001b[0m\u001b[0m\n\u001b[1;32m-> 1079\u001b[1;33m                 \u001b[0mouts\u001b[0m \u001b[1;33m=\u001b[0m \u001b[0mf\u001b[0m\u001b[1;33m(\u001b[0m\u001b[0mins_batch\u001b[0m\u001b[1;33m)\u001b[0m\u001b[1;33m\u001b[0m\u001b[0m\n\u001b[0m\u001b[0;32m   1080\u001b[0m                 \u001b[1;32mif\u001b[0m \u001b[1;32mnot\u001b[0m \u001b[0misinstance\u001b[0m\u001b[1;33m(\u001b[0m\u001b[0mouts\u001b[0m\u001b[1;33m,\u001b[0m \u001b[0mlist\u001b[0m\u001b[1;33m)\u001b[0m\u001b[1;33m:\u001b[0m\u001b[1;33m\u001b[0m\u001b[0m\n\u001b[0;32m   1081\u001b[0m                     \u001b[0mouts\u001b[0m \u001b[1;33m=\u001b[0m \u001b[1;33m[\u001b[0m\u001b[0mouts\u001b[0m\u001b[1;33m]\u001b[0m\u001b[1;33m\u001b[0m\u001b[0m\n",
      "\u001b[1;32mc:\\users\\troy\\anaconda3\\lib\\site-packages\\keras\\backend\\tensorflow_backend.py\u001b[0m in \u001b[0;36m__call__\u001b[1;34m(self, inputs)\u001b[0m\n\u001b[0;32m   2266\u001b[0m         updated = session.run(self.outputs + [self.updates_op],\n\u001b[0;32m   2267\u001b[0m                               \u001b[0mfeed_dict\u001b[0m\u001b[1;33m=\u001b[0m\u001b[0mfeed_dict\u001b[0m\u001b[1;33m,\u001b[0m\u001b[1;33m\u001b[0m\u001b[0m\n\u001b[1;32m-> 2268\u001b[1;33m                               **self.session_kwargs)\n\u001b[0m\u001b[0;32m   2269\u001b[0m         \u001b[1;32mreturn\u001b[0m \u001b[0mupdated\u001b[0m\u001b[1;33m[\u001b[0m\u001b[1;33m:\u001b[0m\u001b[0mlen\u001b[0m\u001b[1;33m(\u001b[0m\u001b[0mself\u001b[0m\u001b[1;33m.\u001b[0m\u001b[0moutputs\u001b[0m\u001b[1;33m)\u001b[0m\u001b[1;33m]\u001b[0m\u001b[1;33m\u001b[0m\u001b[0m\n\u001b[0;32m   2270\u001b[0m \u001b[1;33m\u001b[0m\u001b[0m\n",
      "\u001b[1;32mc:\\users\\troy\\anaconda3\\lib\\site-packages\\tensorflow\\python\\client\\session.py\u001b[0m in \u001b[0;36mrun\u001b[1;34m(self, fetches, feed_dict, options, run_metadata)\u001b[0m\n\u001b[0;32m    787\u001b[0m     \u001b[1;32mtry\u001b[0m\u001b[1;33m:\u001b[0m\u001b[1;33m\u001b[0m\u001b[0m\n\u001b[0;32m    788\u001b[0m       result = self._run(None, fetches, feed_dict, options_ptr,\n\u001b[1;32m--> 789\u001b[1;33m                          run_metadata_ptr)\n\u001b[0m\u001b[0;32m    790\u001b[0m       \u001b[1;32mif\u001b[0m \u001b[0mrun_metadata\u001b[0m\u001b[1;33m:\u001b[0m\u001b[1;33m\u001b[0m\u001b[0m\n\u001b[0;32m    791\u001b[0m         \u001b[0mproto_data\u001b[0m \u001b[1;33m=\u001b[0m \u001b[0mtf_session\u001b[0m\u001b[1;33m.\u001b[0m\u001b[0mTF_GetBuffer\u001b[0m\u001b[1;33m(\u001b[0m\u001b[0mrun_metadata_ptr\u001b[0m\u001b[1;33m)\u001b[0m\u001b[1;33m\u001b[0m\u001b[0m\n",
      "\u001b[1;32mc:\\users\\troy\\anaconda3\\lib\\site-packages\\tensorflow\\python\\client\\session.py\u001b[0m in \u001b[0;36m_run\u001b[1;34m(self, handle, fetches, feed_dict, options, run_metadata)\u001b[0m\n\u001b[0;32m    995\u001b[0m     \u001b[1;32mif\u001b[0m \u001b[0mfinal_fetches\u001b[0m \u001b[1;32mor\u001b[0m \u001b[0mfinal_targets\u001b[0m\u001b[1;33m:\u001b[0m\u001b[1;33m\u001b[0m\u001b[0m\n\u001b[0;32m    996\u001b[0m       results = self._do_run(handle, final_targets, final_fetches,\n\u001b[1;32m--> 997\u001b[1;33m                              feed_dict_string, options, run_metadata)\n\u001b[0m\u001b[0;32m    998\u001b[0m     \u001b[1;32melse\u001b[0m\u001b[1;33m:\u001b[0m\u001b[1;33m\u001b[0m\u001b[0m\n\u001b[0;32m    999\u001b[0m       \u001b[0mresults\u001b[0m \u001b[1;33m=\u001b[0m \u001b[1;33m[\u001b[0m\u001b[1;33m]\u001b[0m\u001b[1;33m\u001b[0m\u001b[0m\n",
      "\u001b[1;32mc:\\users\\troy\\anaconda3\\lib\\site-packages\\tensorflow\\python\\client\\session.py\u001b[0m in \u001b[0;36m_do_run\u001b[1;34m(self, handle, target_list, fetch_list, feed_dict, options, run_metadata)\u001b[0m\n\u001b[0;32m   1130\u001b[0m     \u001b[1;32mif\u001b[0m \u001b[0mhandle\u001b[0m \u001b[1;32mis\u001b[0m \u001b[1;32mNone\u001b[0m\u001b[1;33m:\u001b[0m\u001b[1;33m\u001b[0m\u001b[0m\n\u001b[0;32m   1131\u001b[0m       return self._do_call(_run_fn, self._session, feed_dict, fetch_list,\n\u001b[1;32m-> 1132\u001b[1;33m                            target_list, options, run_metadata)\n\u001b[0m\u001b[0;32m   1133\u001b[0m     \u001b[1;32melse\u001b[0m\u001b[1;33m:\u001b[0m\u001b[1;33m\u001b[0m\u001b[0m\n\u001b[0;32m   1134\u001b[0m       return self._do_call(_prun_fn, self._session, handle, feed_dict,\n",
      "\u001b[1;32mc:\\users\\troy\\anaconda3\\lib\\site-packages\\tensorflow\\python\\client\\session.py\u001b[0m in \u001b[0;36m_do_call\u001b[1;34m(self, fn, *args)\u001b[0m\n\u001b[0;32m   1137\u001b[0m   \u001b[1;32mdef\u001b[0m \u001b[0m_do_call\u001b[0m\u001b[1;33m(\u001b[0m\u001b[0mself\u001b[0m\u001b[1;33m,\u001b[0m \u001b[0mfn\u001b[0m\u001b[1;33m,\u001b[0m \u001b[1;33m*\u001b[0m\u001b[0margs\u001b[0m\u001b[1;33m)\u001b[0m\u001b[1;33m:\u001b[0m\u001b[1;33m\u001b[0m\u001b[0m\n\u001b[0;32m   1138\u001b[0m     \u001b[1;32mtry\u001b[0m\u001b[1;33m:\u001b[0m\u001b[1;33m\u001b[0m\u001b[0m\n\u001b[1;32m-> 1139\u001b[1;33m       \u001b[1;32mreturn\u001b[0m \u001b[0mfn\u001b[0m\u001b[1;33m(\u001b[0m\u001b[1;33m*\u001b[0m\u001b[0margs\u001b[0m\u001b[1;33m)\u001b[0m\u001b[1;33m\u001b[0m\u001b[0m\n\u001b[0m\u001b[0;32m   1140\u001b[0m     \u001b[1;32mexcept\u001b[0m \u001b[0merrors\u001b[0m\u001b[1;33m.\u001b[0m\u001b[0mOpError\u001b[0m \u001b[1;32mas\u001b[0m \u001b[0me\u001b[0m\u001b[1;33m:\u001b[0m\u001b[1;33m\u001b[0m\u001b[0m\n\u001b[0;32m   1141\u001b[0m       \u001b[0mmessage\u001b[0m \u001b[1;33m=\u001b[0m \u001b[0mcompat\u001b[0m\u001b[1;33m.\u001b[0m\u001b[0mas_text\u001b[0m\u001b[1;33m(\u001b[0m\u001b[0me\u001b[0m\u001b[1;33m.\u001b[0m\u001b[0mmessage\u001b[0m\u001b[1;33m)\u001b[0m\u001b[1;33m\u001b[0m\u001b[0m\n",
      "\u001b[1;32mc:\\users\\troy\\anaconda3\\lib\\site-packages\\tensorflow\\python\\client\\session.py\u001b[0m in \u001b[0;36m_run_fn\u001b[1;34m(session, feed_dict, fetch_list, target_list, options, run_metadata)\u001b[0m\n\u001b[0;32m   1119\u001b[0m         return tf_session.TF_Run(session, options,\n\u001b[0;32m   1120\u001b[0m                                  \u001b[0mfeed_dict\u001b[0m\u001b[1;33m,\u001b[0m \u001b[0mfetch_list\u001b[0m\u001b[1;33m,\u001b[0m \u001b[0mtarget_list\u001b[0m\u001b[1;33m,\u001b[0m\u001b[1;33m\u001b[0m\u001b[0m\n\u001b[1;32m-> 1121\u001b[1;33m                                  status, run_metadata)\n\u001b[0m\u001b[0;32m   1122\u001b[0m \u001b[1;33m\u001b[0m\u001b[0m\n\u001b[0;32m   1123\u001b[0m     \u001b[1;32mdef\u001b[0m \u001b[0m_prun_fn\u001b[0m\u001b[1;33m(\u001b[0m\u001b[0msession\u001b[0m\u001b[1;33m,\u001b[0m \u001b[0mhandle\u001b[0m\u001b[1;33m,\u001b[0m \u001b[0mfeed_dict\u001b[0m\u001b[1;33m,\u001b[0m \u001b[0mfetch_list\u001b[0m\u001b[1;33m)\u001b[0m\u001b[1;33m:\u001b[0m\u001b[1;33m\u001b[0m\u001b[0m\n",
      "\u001b[1;31mKeyboardInterrupt\u001b[0m: "
     ]
    }
   ],
   "source": [
    "model.fit(x, y, batch_size=batch_size, epochs=60,\n",
    "          verbose=0, callbacks=[TQDMNotebookCallback(), print_callback])"
   ]
  }
 ],
 "metadata": {
  "kernelspec": {
   "display_name": "Python 3",
   "language": "python",
   "name": "python3"
  },
  "language_info": {
   "codemirror_mode": {
    "name": "ipython",
    "version": 3
   },
   "file_extension": ".py",
   "mimetype": "text/x-python",
   "name": "python",
   "nbconvert_exporter": "python",
   "pygments_lexer": "ipython3",
   "version": "3.5.3"
  }
 },
 "nbformat": 4,
 "nbformat_minor": 2
}
