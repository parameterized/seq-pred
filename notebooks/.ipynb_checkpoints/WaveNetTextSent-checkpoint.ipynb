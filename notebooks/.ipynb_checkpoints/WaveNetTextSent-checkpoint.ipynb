{
 "cells": [
  {
   "cell_type": "code",
   "execution_count": 1,
   "metadata": {},
   "outputs": [
    {
     "name": "stderr",
     "output_type": "stream",
     "text": [
      "c:\\users\\troy\\anaconda3\\lib\\site-packages\\h5py\\__init__.py:34: FutureWarning: Conversion of the second argument of issubdtype from `float` to `np.floating` is deprecated. In future, it will be treated as `np.float64 == np.dtype(float).type`.\n",
      "  from ._conv import register_converters as _register_converters\n",
      "Using TensorFlow backend.\n"
     ]
    }
   ],
   "source": [
    "import numpy as np\n",
    "from collections import defaultdict\n",
    "import time\n",
    "import sys\n",
    "\n",
    "from keras.models import Model, load_model\n",
    "from keras.layers import Input, Embedding, Conv1D, Multiply\n",
    "from keras.optimizers import Adam\n",
    "from keras.callbacks import LambdaCallback\n",
    "\n",
    "from keras_tqdm import TQDMNotebookCallback"
   ]
  },
  {
   "cell_type": "code",
   "execution_count": 2,
   "metadata": {},
   "outputs": [],
   "source": [
    "dataset_path = 'C:/Datasets/amazonreviews'\n",
    "with open('{0}/train.ft.txt'.format(dataset_path), encoding='utf-8') as f:\n",
    "    train_str = f.read()\n",
    "with open('{0}/test.ft.txt'.format(dataset_path), encoding='utf-8') as f:\n",
    "    test_str = f.read()"
   ]
  },
  {
   "cell_type": "code",
   "execution_count": 3,
   "metadata": {},
   "outputs": [],
   "source": [
    "def data_parse(s):\n",
    "    d = s.split('__label__')[1:]\n",
    "    y = [int(s[0])-1 for s in d]\n",
    "    #titles = [s.split(': ', 1)[0][2:] for s in d]\n",
    "    x = [s.split(': ', 1)[1] for s in d]\n",
    "    return (x, y)\n",
    "\n",
    "(train_x, train_y) = data_parse(train_str)\n",
    "(test_x, test_y) = data_parse(test_str)"
   ]
  },
  {
   "cell_type": "code",
   "execution_count": 4,
   "metadata": {},
   "outputs": [],
   "source": [
    "del train_str\n",
    "del test_str"
   ]
  },
  {
   "cell_type": "code",
   "execution_count": 5,
   "metadata": {},
   "outputs": [],
   "source": [
    "num_groups = 2\n",
    "num_layers = 8\n",
    "num_filters = 128\n",
    "#latent_size = 64\n",
    "\n",
    "batch_size = 16\n",
    "batch_len = 2**num_layers * 2\n",
    "\n",
    "model_id = int(time.time())"
   ]
  },
  {
   "cell_type": "code",
   "execution_count": 6,
   "metadata": {},
   "outputs": [],
   "source": [
    "# remove ~10% longest, sort by length\n",
    "def data_filter(x, y):\n",
    "    mask = [len(s) < 800 for s in x]\n",
    "    x = [s for i, s in enumerate(x) if mask[i]]\n",
    "    y = [s for i, s in enumerate(y) if mask[i]]\n",
    "    sort = np.argsort([len(s) for s in x])\n",
    "    x = [x[i] for i in sort]\n",
    "    y = [y[i] for i in sort]\n",
    "    return (x, y)\n",
    "\n",
    "(train_x, train_y) = data_filter(train_x, train_y)\n",
    "(test_x, test_y) = data_filter(test_x, test_y)"
   ]
  },
  {
   "cell_type": "code",
   "execution_count": 7,
   "metadata": {},
   "outputs": [
    {
     "name": "stdout",
     "output_type": "stream",
     "text": [
      "3302164 3302164\n"
     ]
    }
   ],
   "source": [
    "print(len(train_x), len(train_y))"
   ]
  },
  {
   "cell_type": "code",
   "execution_count": 8,
   "metadata": {},
   "outputs": [
    {
     "name": "stdout",
     "output_type": "stream",
     "text": [
      " !\"#$%&'()*+,-./0123456789:;<=>?@ABCDEFGHIJKLMNOPQRSTUVWXYZ[\\]^_`abcdefghijklmnopqrstuvwxyz{|}~\n"
     ]
    }
   ],
   "source": [
    "#np.mean([(ord(c)>31 and ord(c)<127) for c in ''.join(s for s in train_x)])\n",
    "# 99.7% within this set\n",
    "chars = [chr(i+32) for i in range(126 - 32 + 1)]\n",
    "print(''.join(chars))\n",
    "char2idx = defaultdict(lambda: 2, {c: i+2 for i, c in enumerate(chars)})\n",
    "idx2char = defaultdict(lambda: ' ', {i+2: c for i, c in enumerate(chars)})\n",
    "input_dim = len(chars) + 2"
   ]
  },
  {
   "cell_type": "code",
   "execution_count": 9,
   "metadata": {},
   "outputs": [],
   "source": [
    "def generate_data(batch_size=batch_size, test=False):\n",
    "    if test:\n",
    "        x, y = test_x, test_y\n",
    "    else:\n",
    "        x, y = train_x, train_y\n",
    "    while True:\n",
    "        bx = np.zeros((batch_size, batch_len), dtype='int32')\n",
    "        by_text = np.zeros((batch_size, batch_len, input_dim), dtype='int32')\n",
    "        by_sent = np.zeros((batch_size, batch_len, 2), dtype='int32')\n",
    "        for batch_idx in range(batch_size):\n",
    "            data_idx = np.random.randint(len(x))\n",
    "            slice_s = max(0, len(x[data_idx]) - batch_len)\n",
    "            if slice_s != 0:\n",
    "                slice_s = np.random.randint(slice_s)\n",
    "            slice_e = min(slice_s + batch_len, len(x[data_idx]))\n",
    "            x_sub = x[data_idx][slice_s:slice_e]\n",
    "            bx[batch_idx][-len(x_sub):] = [char2idx[c] for c in x_sub]\n",
    "            for k, c in enumerate(x_sub[1:]):\n",
    "                by_text[batch_idx][k + batch_len - len(x_sub)][char2idx[c]] = 1\n",
    "            if slice_e == len(x[data_idx]):\n",
    "                by_text[batch_idx, -1, 1] = 1\n",
    "            else:\n",
    "                by_text[batch_idx, -1, char2idx[x[data_idx][-1]]]\n",
    "            by_sent[batch_idx, batch_len - len(x_sub):, y[data_idx]] = 1\n",
    "        yield (bx, [by_text, by_sent])"
   ]
  },
  {
   "cell_type": "code",
   "execution_count": 10,
   "metadata": {},
   "outputs": [
    {
     "name": "stdout",
     "output_type": "stream",
     "text": [
      "                                                                                                                                                                                                                             Warning! Even though you're a matrix fan, and want more matrix action,just watch the movies,don't get this game.It's a total rip!The action is soooooooooooo boring, and the car driving parts of the game is just lame,very lame.But there's a bright side to this game,and it's the movie clips. \n",
      "                                                                                                                                                                                                                             arning! Even though you're a matrix fan, and want more matrix action,just watch the movies,don't get this game.It's a total rip!The action is soooooooooooo boring, and the car driving parts of the game is just lame,very lame.But there's a bright side to this game,and it's the movie clips.  \n"
     ]
    }
   ],
   "source": [
    "bx, by = next(generate_data())\n",
    "print(''.join([idx2char[i] for i in bx[0]]))\n",
    "print(''.join([idx2char[np.argmax(v)] for v in by[0][0]]))"
   ]
  },
  {
   "cell_type": "code",
   "execution_count": 11,
   "metadata": {},
   "outputs": [],
   "source": [
    "def sample(preds, temperature=1.0):\n",
    "    preds = np.asarray(preds).astype('float64')\n",
    "    preds = np.log(preds) / temperature\n",
    "    exp_preds = np.exp(preds)\n",
    "    preds = exp_preds / np.sum(exp_preds)\n",
    "    probas = np.random.multinomial(1, preds, 1)\n",
    "    return np.argmax(probas)"
   ]
  },
  {
   "cell_type": "code",
   "execution_count": 12,
   "metadata": {},
   "outputs": [],
   "source": [
    "l_in = Input(shape=(None,), dtype='int32')\n",
    "h = Embedding(input_dim=input_dim, output_dim=num_filters)(l_in)\n",
    "for i in range(num_groups):\n",
    "    for j in range(num_layers):\n",
    "        l_filter = Conv1D(filters=num_filters, kernel_size=2,\n",
    "            dilation_rate=2**j, padding='causal', activation='tanh')(h)\n",
    "        l_gate = Conv1D(filters=num_filters, kernel_size=2,\n",
    "            dilation_rate=2**j, padding='causal', activation='sigmoid')(h)\n",
    "        h = Multiply()([l_filter, l_gate])\n",
    "l_out_text = Conv1D(filters=input_dim, kernel_size=1, activation='softmax')(h)\n",
    "l_out_sent = Conv1D(filters=2, kernel_size=1, activation='softmax')(h)\n",
    "\n",
    "model = Model(inputs=l_in, outputs=[l_out_text, l_out_sent])\n",
    "\n",
    "adam = Adam(0.001)\n",
    "model.compile(optimizer=adam, loss='categorical_crossentropy')"
   ]
  },
  {
   "cell_type": "code",
   "execution_count": 13,
   "metadata": {},
   "outputs": [
    {
     "name": "stdout",
     "output_type": "stream",
     "text": [
      "____________________________________________________________________________________________________\n",
      "Layer (type)                     Output Shape          Param #     Connected to                     \n",
      "====================================================================================================\n",
      "input_1 (InputLayer)             (None, None)          0                                            \n",
      "____________________________________________________________________________________________________\n",
      "embedding_1 (Embedding)          (None, None, 256)     24832       input_1[0][0]                    \n",
      "____________________________________________________________________________________________________\n",
      "conv1d_1 (Conv1D)                (None, None, 256)     131328      embedding_1[0][0]                \n",
      "____________________________________________________________________________________________________\n",
      "conv1d_2 (Conv1D)                (None, None, 256)     131328      embedding_1[0][0]                \n",
      "____________________________________________________________________________________________________\n",
      "multiply_1 (Multiply)            (None, None, 256)     0           conv1d_1[0][0]                   \n",
      "                                                                   conv1d_2[0][0]                   \n",
      "____________________________________________________________________________________________________\n",
      "conv1d_3 (Conv1D)                (None, None, 256)     131328      multiply_1[0][0]                 \n",
      "____________________________________________________________________________________________________\n",
      "conv1d_4 (Conv1D)                (None, None, 256)     131328      multiply_1[0][0]                 \n",
      "____________________________________________________________________________________________________\n",
      "multiply_2 (Multiply)            (None, None, 256)     0           conv1d_3[0][0]                   \n",
      "                                                                   conv1d_4[0][0]                   \n",
      "____________________________________________________________________________________________________\n",
      "conv1d_5 (Conv1D)                (None, None, 256)     131328      multiply_2[0][0]                 \n",
      "____________________________________________________________________________________________________\n",
      "conv1d_6 (Conv1D)                (None, None, 256)     131328      multiply_2[0][0]                 \n",
      "____________________________________________________________________________________________________\n",
      "multiply_3 (Multiply)            (None, None, 256)     0           conv1d_5[0][0]                   \n",
      "                                                                   conv1d_6[0][0]                   \n",
      "____________________________________________________________________________________________________\n",
      "conv1d_7 (Conv1D)                (None, None, 256)     131328      multiply_3[0][0]                 \n",
      "____________________________________________________________________________________________________\n",
      "conv1d_8 (Conv1D)                (None, None, 256)     131328      multiply_3[0][0]                 \n",
      "____________________________________________________________________________________________________\n",
      "multiply_4 (Multiply)            (None, None, 256)     0           conv1d_7[0][0]                   \n",
      "                                                                   conv1d_8[0][0]                   \n",
      "____________________________________________________________________________________________________\n",
      "conv1d_9 (Conv1D)                (None, None, 256)     131328      multiply_4[0][0]                 \n",
      "____________________________________________________________________________________________________\n",
      "conv1d_10 (Conv1D)               (None, None, 256)     131328      multiply_4[0][0]                 \n",
      "____________________________________________________________________________________________________\n",
      "multiply_5 (Multiply)            (None, None, 256)     0           conv1d_9[0][0]                   \n",
      "                                                                   conv1d_10[0][0]                  \n",
      "____________________________________________________________________________________________________\n",
      "conv1d_11 (Conv1D)               (None, None, 256)     131328      multiply_5[0][0]                 \n",
      "____________________________________________________________________________________________________\n",
      "conv1d_12 (Conv1D)               (None, None, 256)     131328      multiply_5[0][0]                 \n",
      "____________________________________________________________________________________________________\n",
      "multiply_6 (Multiply)            (None, None, 256)     0           conv1d_11[0][0]                  \n",
      "                                                                   conv1d_12[0][0]                  \n",
      "____________________________________________________________________________________________________\n",
      "conv1d_13 (Conv1D)               (None, None, 256)     131328      multiply_6[0][0]                 \n",
      "____________________________________________________________________________________________________\n",
      "conv1d_14 (Conv1D)               (None, None, 256)     131328      multiply_6[0][0]                 \n",
      "____________________________________________________________________________________________________\n",
      "multiply_7 (Multiply)            (None, None, 256)     0           conv1d_13[0][0]                  \n",
      "                                                                   conv1d_14[0][0]                  \n",
      "____________________________________________________________________________________________________\n",
      "conv1d_15 (Conv1D)               (None, None, 256)     131328      multiply_7[0][0]                 \n",
      "____________________________________________________________________________________________________\n",
      "conv1d_16 (Conv1D)               (None, None, 256)     131328      multiply_7[0][0]                 \n",
      "____________________________________________________________________________________________________\n",
      "multiply_8 (Multiply)            (None, None, 256)     0           conv1d_15[0][0]                  \n",
      "                                                                   conv1d_16[0][0]                  \n",
      "____________________________________________________________________________________________________\n",
      "conv1d_17 (Conv1D)               (None, None, 256)     131328      multiply_8[0][0]                 \n",
      "____________________________________________________________________________________________________\n",
      "conv1d_18 (Conv1D)               (None, None, 256)     131328      multiply_8[0][0]                 \n",
      "____________________________________________________________________________________________________\n",
      "multiply_9 (Multiply)            (None, None, 256)     0           conv1d_17[0][0]                  \n",
      "                                                                   conv1d_18[0][0]                  \n",
      "____________________________________________________________________________________________________\n",
      "conv1d_19 (Conv1D)               (None, None, 256)     131328      multiply_9[0][0]                 \n",
      "____________________________________________________________________________________________________\n",
      "conv1d_20 (Conv1D)               (None, None, 256)     131328      multiply_9[0][0]                 \n",
      "____________________________________________________________________________________________________\n",
      "multiply_10 (Multiply)           (None, None, 256)     0           conv1d_19[0][0]                  \n",
      "                                                                   conv1d_20[0][0]                  \n",
      "____________________________________________________________________________________________________\n",
      "conv1d_21 (Conv1D)               (None, None, 256)     131328      multiply_10[0][0]                \n",
      "____________________________________________________________________________________________________\n",
      "conv1d_22 (Conv1D)               (None, None, 256)     131328      multiply_10[0][0]                \n",
      "____________________________________________________________________________________________________\n",
      "multiply_11 (Multiply)           (None, None, 256)     0           conv1d_21[0][0]                  \n",
      "                                                                   conv1d_22[0][0]                  \n",
      "____________________________________________________________________________________________________\n",
      "conv1d_23 (Conv1D)               (None, None, 256)     131328      multiply_11[0][0]                \n",
      "____________________________________________________________________________________________________\n",
      "conv1d_24 (Conv1D)               (None, None, 256)     131328      multiply_11[0][0]                \n",
      "____________________________________________________________________________________________________\n",
      "multiply_12 (Multiply)           (None, None, 256)     0           conv1d_23[0][0]                  \n",
      "                                                                   conv1d_24[0][0]                  \n",
      "____________________________________________________________________________________________________\n",
      "conv1d_25 (Conv1D)               (None, None, 256)     131328      multiply_12[0][0]                \n",
      "____________________________________________________________________________________________________\n",
      "conv1d_26 (Conv1D)               (None, None, 256)     131328      multiply_12[0][0]                \n",
      "____________________________________________________________________________________________________\n",
      "multiply_13 (Multiply)           (None, None, 256)     0           conv1d_25[0][0]                  \n",
      "                                                                   conv1d_26[0][0]                  \n",
      "____________________________________________________________________________________________________\n",
      "conv1d_27 (Conv1D)               (None, None, 256)     131328      multiply_13[0][0]                \n",
      "____________________________________________________________________________________________________\n",
      "conv1d_28 (Conv1D)               (None, None, 256)     131328      multiply_13[0][0]                \n",
      "____________________________________________________________________________________________________\n",
      "multiply_14 (Multiply)           (None, None, 256)     0           conv1d_27[0][0]                  \n",
      "                                                                   conv1d_28[0][0]                  \n",
      "____________________________________________________________________________________________________\n",
      "conv1d_29 (Conv1D)               (None, None, 256)     131328      multiply_14[0][0]                \n",
      "____________________________________________________________________________________________________\n",
      "conv1d_30 (Conv1D)               (None, None, 256)     131328      multiply_14[0][0]                \n",
      "____________________________________________________________________________________________________\n",
      "multiply_15 (Multiply)           (None, None, 256)     0           conv1d_29[0][0]                  \n",
      "                                                                   conv1d_30[0][0]                  \n",
      "____________________________________________________________________________________________________\n",
      "conv1d_31 (Conv1D)               (None, None, 256)     131328      multiply_15[0][0]                \n",
      "____________________________________________________________________________________________________\n",
      "conv1d_32 (Conv1D)               (None, None, 256)     131328      multiply_15[0][0]                \n",
      "____________________________________________________________________________________________________\n",
      "multiply_16 (Multiply)           (None, None, 256)     0           conv1d_31[0][0]                  \n",
      "                                                                   conv1d_32[0][0]                  \n",
      "____________________________________________________________________________________________________\n",
      "conv1d_33 (Conv1D)               (None, None, 97)      24929       multiply_16[0][0]                \n",
      "____________________________________________________________________________________________________\n",
      "conv1d_34 (Conv1D)               (None, None, 2)       514         multiply_16[0][0]                \n",
      "====================================================================================================\n",
      "Total params: 4,252,771\n",
      "Trainable params: 4,252,771\n",
      "Non-trainable params: 0\n",
      "____________________________________________________________________________________________________\n",
      "None\n"
     ]
    }
   ],
   "source": [
    "print(model.summary())"
   ]
  },
  {
   "cell_type": "code",
   "execution_count": 14,
   "metadata": {},
   "outputs": [],
   "source": [
    "def generate_text(epoch=None, logs=None, length=400):\n",
    "    print()\n",
    "    print('-- epoch {0}\\n'.format(epoch))\n",
    "    bx, by = next(generate_data(batch_size=1, test=True))\n",
    "    bx = bx[0][-(2**num_layers):]\n",
    "    seed_str = ''.join([idx2char[i] for i in bx])\n",
    "    print('-- seed: {0}'.format(seed_str))\n",
    "    print()\n",
    "    for diversity in [0.2, 0.5, 1.0, 1.2]:\n",
    "        print('-- diversity: {0}'.format(diversity))\n",
    "        #sys.stdout.write(seed_str)\n",
    "        for i in range(length):\n",
    "            y, y_sent = model.predict(np.array([bx]))\n",
    "            # don't sample mask\n",
    "            y[0, -1, 0] = 0\n",
    "            y = sample(y[0, -1])\n",
    "            if y == 1:\n",
    "                break\n",
    "            c = idx2char[y]\n",
    "            sys.stdout.write(c)\n",
    "            sys.stdout.flush()\n",
    "            bx = bx[:][1:]\n",
    "            bx = np.concatenate((bx, [y]), axis=-1)\n",
    "        print('\\n')\n",
    "\n",
    "gen_callback = LambdaCallback(on_epoch_end=generate_text)"
   ]
  },
  {
   "cell_type": "code",
   "execution_count": 15,
   "metadata": {},
   "outputs": [],
   "source": [
    "def save_model(epoch=None, logs=None):\n",
    "    model.save('models/wntv_{0}.h5'.format(model_id))\n",
    "    print('saved model')\n",
    "\n",
    "save_callback = LambdaCallback(on_epoch_end=save_model)"
   ]
  },
  {
   "cell_type": "code",
   "execution_count": 16,
   "metadata": {},
   "outputs": [],
   "source": [
    "def trainfor(epochs, save=True, gen=True):\n",
    "    callbacks = [TQDMNotebookCallback()]\n",
    "    if save:\n",
    "        callbacks.append(save_callback)\n",
    "    if gen:\n",
    "        callbacks.append(gen_callback)\n",
    "    model.fit_generator(generate_data(), int(1e4), epochs,\n",
    "        verbose=0, callbacks=callbacks)"
   ]
  },
  {
   "cell_type": "code",
   "execution_count": null,
   "metadata": {},
   "outputs": [
    {
     "data": {
      "application/vnd.jupyter.widget-view+json": {
       "model_id": "1bdc956adacf403bae790194b74f3859",
       "version_major": 2,
       "version_minor": 0
      },
      "text/html": [
       "<p>Failed to display Jupyter Widget of type <code>HBox</code>.</p>\n",
       "<p>\n",
       "  If you're reading this message in the Jupyter Notebook or JupyterLab Notebook, it may mean\n",
       "  that the widgets JavaScript is still loading. If this message persists, it\n",
       "  likely means that the widgets JavaScript library is either not installed or\n",
       "  not enabled. See the <a href=\"https://ipywidgets.readthedocs.io/en/stable/user_install.html\">Jupyter\n",
       "  Widgets Documentation</a> for setup instructions.\n",
       "</p>\n",
       "<p>\n",
       "  If you're reading this message in another frontend (for example, a static\n",
       "  rendering on GitHub or <a href=\"https://nbviewer.jupyter.org/\">NBViewer</a>),\n",
       "  it may mean that your frontend doesn't currently support widgets.\n",
       "</p>\n"
      ],
      "text/plain": [
       "HBox(children=(IntProgress(value=0, description='Training', max=10), HTML(value='')))"
      ]
     },
     "metadata": {},
     "output_type": "display_data"
    },
    {
     "data": {
      "application/vnd.jupyter.widget-view+json": {
       "model_id": "33208c3dc43c425599db61f98d5c9ad1",
       "version_major": 2,
       "version_minor": 0
      },
      "text/html": [
       "<p>Failed to display Jupyter Widget of type <code>HBox</code>.</p>\n",
       "<p>\n",
       "  If you're reading this message in the Jupyter Notebook or JupyterLab Notebook, it may mean\n",
       "  that the widgets JavaScript is still loading. If this message persists, it\n",
       "  likely means that the widgets JavaScript library is either not installed or\n",
       "  not enabled. See the <a href=\"https://ipywidgets.readthedocs.io/en/stable/user_install.html\">Jupyter\n",
       "  Widgets Documentation</a> for setup instructions.\n",
       "</p>\n",
       "<p>\n",
       "  If you're reading this message in another frontend (for example, a static\n",
       "  rendering on GitHub or <a href=\"https://nbviewer.jupyter.org/\">NBViewer</a>),\n",
       "  it may mean that your frontend doesn't currently support widgets.\n",
       "</p>\n"
      ],
      "text/plain": [
       "HBox(children=(IntProgress(value=0, description='Epoch 0', max=10000), HTML(value='')))"
      ]
     },
     "metadata": {},
     "output_type": "display_data"
    }
   ],
   "source": [
    "trainfor(10)"
   ]
  },
  {
   "cell_type": "code",
   "execution_count": null,
   "metadata": {},
   "outputs": [],
   "source": [
    "adam = Adam(0.0005)\n",
    "model.compile(optimizer=adam, loss='categorical_crossentropy')\n",
    "trainfor(1e9)"
   ]
  }
 ],
 "metadata": {
  "kernelspec": {
   "display_name": "Python 3",
   "language": "python",
   "name": "python3"
  },
  "language_info": {
   "codemirror_mode": {
    "name": "ipython",
    "version": 3
   },
   "file_extension": ".py",
   "mimetype": "text/x-python",
   "name": "python",
   "nbconvert_exporter": "python",
   "pygments_lexer": "ipython3",
   "version": "3.5.3"
  }
 },
 "nbformat": 4,
 "nbformat_minor": 2
}
