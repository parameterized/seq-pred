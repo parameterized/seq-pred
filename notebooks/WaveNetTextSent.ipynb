{
 "cells": [
  {
   "cell_type": "code",
   "execution_count": 1,
   "metadata": {},
   "outputs": [
    {
     "name": "stderr",
     "output_type": "stream",
     "text": [
      "c:\\users\\troy\\anaconda3\\lib\\site-packages\\h5py\\__init__.py:34: FutureWarning: Conversion of the second argument of issubdtype from `float` to `np.floating` is deprecated. In future, it will be treated as `np.float64 == np.dtype(float).type`.\n",
      "  from ._conv import register_converters as _register_converters\n",
      "Using TensorFlow backend.\n"
     ]
    }
   ],
   "source": [
    "import numpy as np\n",
    "from collections import defaultdict\n",
    "import time\n",
    "import sys\n",
    "\n",
    "from keras.models import Model, load_model\n",
    "from keras.layers import Input, Embedding, Conv1D, Multiply\n",
    "from keras.optimizers import Adam\n",
    "from keras.callbacks import LambdaCallback\n",
    "\n",
    "from keras_tqdm import TQDMNotebookCallback"
   ]
  },
  {
   "cell_type": "code",
   "execution_count": 2,
   "metadata": {},
   "outputs": [],
   "source": [
    "dataset_path = 'C:/Datasets/amazonreviews'\n",
    "with open('{0}/train.ft.txt'.format(dataset_path), encoding='utf-8') as f:\n",
    "    train_str = f.read()\n",
    "with open('{0}/test.ft.txt'.format(dataset_path), encoding='utf-8') as f:\n",
    "    test_str = f.read()"
   ]
  },
  {
   "cell_type": "code",
   "execution_count": 3,
   "metadata": {},
   "outputs": [],
   "source": [
    "def data_parse(s):\n",
    "    d = s.split('__label__')[1:]\n",
    "    y = [int(s[0])-1 for s in d]\n",
    "    #titles = [s.split(': ', 1)[0][2:] for s in d]\n",
    "    x = [s.split(': ', 1)[1] for s in d]\n",
    "    return (x, y)\n",
    "\n",
    "(train_x, train_y) = data_parse(train_str)\n",
    "(test_x, test_y) = data_parse(test_str)"
   ]
  },
  {
   "cell_type": "code",
   "execution_count": 4,
   "metadata": {},
   "outputs": [],
   "source": [
    "del train_str\n",
    "del test_str"
   ]
  },
  {
   "cell_type": "code",
   "execution_count": 5,
   "metadata": {},
   "outputs": [],
   "source": [
    "num_groups = 1\n",
    "num_layers = 8\n",
    "num_filters = 128\n",
    "\n",
    "batch_size = 16\n",
    "batch_len = 2**num_layers * 2\n",
    "\n",
    "model_id = int(time.time())"
   ]
  },
  {
   "cell_type": "code",
   "execution_count": 6,
   "metadata": {},
   "outputs": [],
   "source": [
    "# remove ~10% longest, sort by length\n",
    "def data_filter(x, y):\n",
    "    mask = [len(s) < 800 for s in x]\n",
    "    x = [s for i, s in enumerate(x) if mask[i]]\n",
    "    y = [s for i, s in enumerate(y) if mask[i]]\n",
    "    sort = np.argsort([len(s) for s in x])\n",
    "    x = [x[i] for i in sort]\n",
    "    y = [y[i] for i in sort]\n",
    "    return (x, y)\n",
    "\n",
    "(train_x, train_y) = data_filter(train_x, train_y)\n",
    "(test_x, test_y) = data_filter(test_x, test_y)"
   ]
  },
  {
   "cell_type": "code",
   "execution_count": 7,
   "metadata": {},
   "outputs": [
    {
     "name": "stdout",
     "output_type": "stream",
     "text": [
      "3302164 3302164\n"
     ]
    }
   ],
   "source": [
    "print(len(train_x), len(train_y))"
   ]
  },
  {
   "cell_type": "code",
   "execution_count": 8,
   "metadata": {},
   "outputs": [
    {
     "name": "stdout",
     "output_type": "stream",
     "text": [
      " !\"#$%&'()*+,-./0123456789:;<=>?@ABCDEFGHIJKLMNOPQRSTUVWXYZ[\\]^_`abcdefghijklmnopqrstuvwxyz{|}~\n"
     ]
    }
   ],
   "source": [
    "#np.mean([(ord(c)>31 and ord(c)<127) for c in ''.join(s for s in train_x)])\n",
    "# 99.7% within this set\n",
    "chars = [chr(i+32) for i in range(126 - 32 + 1)]\n",
    "print(''.join(chars))\n",
    "char2idx = defaultdict(lambda: 2, {c: i+2 for i, c in enumerate(chars)})\n",
    "idx2char = defaultdict(lambda: ' ', {i+2: c for i, c in enumerate(chars)})\n",
    "input_dim = len(chars) + 2"
   ]
  },
  {
   "cell_type": "code",
   "execution_count": 9,
   "metadata": {},
   "outputs": [],
   "source": [
    "def generate_data(batch_size=batch_size, test=False):\n",
    "    if test:\n",
    "        x, y = test_x, test_y\n",
    "    else:\n",
    "        x, y = train_x, train_y\n",
    "    while True:\n",
    "        bx = np.zeros((batch_size, batch_len), dtype='int32')\n",
    "        by_text = np.zeros((batch_size, batch_len, input_dim), dtype='int32')\n",
    "        by_sent = np.zeros((batch_size, batch_len, 2), dtype='int32')\n",
    "        for batch_idx in range(batch_size):\n",
    "            data_idx = np.random.randint(len(x))\n",
    "            slice_s = max(0, len(x[data_idx]) - batch_len)\n",
    "            if slice_s != 0:\n",
    "                slice_s = np.random.randint(slice_s)\n",
    "            slice_e = min(slice_s + batch_len, len(x[data_idx]))\n",
    "            x_sub = x[data_idx][slice_s:slice_e]\n",
    "            bx[batch_idx][-len(x_sub):] = [char2idx[c] for c in x_sub]\n",
    "            for k, c in enumerate(x_sub[1:]):\n",
    "                by_text[batch_idx][k + batch_len - len(x_sub)][char2idx[c]] = 1\n",
    "            if slice_e == len(x[data_idx]):\n",
    "                by_text[batch_idx, -1, 1] = 1\n",
    "            else:\n",
    "                by_text[batch_idx, -1, char2idx[x[data_idx][-1]]]\n",
    "            by_sent[batch_idx, batch_len - len(x_sub):, y[data_idx]] = 1\n",
    "        yield (bx, [by_text, by_sent])"
   ]
  },
  {
   "cell_type": "code",
   "execution_count": 10,
   "metadata": {},
   "outputs": [
    {
     "name": "stdout",
     "output_type": "stream",
     "text": [
      "                                  Everyone I knew had this album when I was a teenage stoner and it's not only because it's what all the other stoners expected you to have - it's just a damn good album and thanks to all those Zep heads out there, it's now been remastered with a little help by some of the members. So I get \"Rock & Roll\", \"Stairway To Heaven\" and all the others in full glory. Makes me wanna smoke up, but maybe I'll just pour myself some wine and go back to the Carly Simon albums - age sucks. \n",
      "                                  veryone I knew had this album when I was a teenage stoner and it's not only because it's what all the other stoners expected you to have - it's just a damn good album and thanks to all those Zep heads out there, it's now been remastered with a little help by some of the members. So I get \"Rock & Roll\", \"Stairway To Heaven\" and all the others in full glory. Makes me wanna smoke up, but maybe I'll just pour myself some wine and go back to the Carly Simon albums - age sucks.  \n"
     ]
    }
   ],
   "source": [
    "bx, by = next(generate_data())\n",
    "print(''.join([idx2char[i] for i in bx[0]]))\n",
    "print(''.join([idx2char[np.argmax(v)] for v in by[0][0]]))"
   ]
  },
  {
   "cell_type": "code",
   "execution_count": 11,
   "metadata": {},
   "outputs": [],
   "source": [
    "def sample(preds, temperature=1.0):\n",
    "    preds = np.asarray(preds).astype('float64')\n",
    "    preds = np.log(preds) / temperature\n",
    "    exp_preds = np.exp(preds)\n",
    "    preds = exp_preds / np.sum(exp_preds)\n",
    "    probas = np.random.multinomial(1, preds, 1)\n",
    "    return np.argmax(probas)"
   ]
  },
  {
   "cell_type": "code",
   "execution_count": 12,
   "metadata": {},
   "outputs": [],
   "source": [
    "l_in = Input(shape=(None,), dtype='int32')\n",
    "h = Embedding(input_dim=input_dim, output_dim=num_filters)(l_in)\n",
    "for i in range(num_groups):\n",
    "    for j in range(num_layers):\n",
    "        l_filter = Conv1D(filters=num_filters, kernel_size=2,\n",
    "            dilation_rate=2**j, padding='causal', activation='tanh')(h)\n",
    "        l_gate = Conv1D(filters=num_filters, kernel_size=2,\n",
    "            dilation_rate=2**j, padding='causal', activation='sigmoid')(h)\n",
    "        h = Multiply()([l_filter, l_gate])\n",
    "l_out_text = Conv1D(filters=input_dim, kernel_size=1, activation='softmax')(h)\n",
    "l_out_sent = Conv1D(filters=2, kernel_size=1, activation='softmax')(h)\n",
    "\n",
    "model = Model(inputs=l_in, outputs=[l_out_text, l_out_sent])\n",
    "\n",
    "adam = Adam(0.001)\n",
    "model.compile(optimizer=adam, loss='categorical_crossentropy')"
   ]
  },
  {
   "cell_type": "code",
   "execution_count": 13,
   "metadata": {},
   "outputs": [
    {
     "name": "stdout",
     "output_type": "stream",
     "text": [
      "____________________________________________________________________________________________________\n",
      "Layer (type)                     Output Shape          Param #     Connected to                     \n",
      "====================================================================================================\n",
      "input_1 (InputLayer)             (None, None)          0                                            \n",
      "____________________________________________________________________________________________________\n",
      "embedding_1 (Embedding)          (None, None, 128)     12416       input_1[0][0]                    \n",
      "____________________________________________________________________________________________________\n",
      "conv1d_1 (Conv1D)                (None, None, 128)     32896       embedding_1[0][0]                \n",
      "____________________________________________________________________________________________________\n",
      "conv1d_2 (Conv1D)                (None, None, 128)     32896       embedding_1[0][0]                \n",
      "____________________________________________________________________________________________________\n",
      "multiply_1 (Multiply)            (None, None, 128)     0           conv1d_1[0][0]                   \n",
      "                                                                   conv1d_2[0][0]                   \n",
      "____________________________________________________________________________________________________\n",
      "conv1d_3 (Conv1D)                (None, None, 128)     32896       multiply_1[0][0]                 \n",
      "____________________________________________________________________________________________________\n",
      "conv1d_4 (Conv1D)                (None, None, 128)     32896       multiply_1[0][0]                 \n",
      "____________________________________________________________________________________________________\n",
      "multiply_2 (Multiply)            (None, None, 128)     0           conv1d_3[0][0]                   \n",
      "                                                                   conv1d_4[0][0]                   \n",
      "____________________________________________________________________________________________________\n",
      "conv1d_5 (Conv1D)                (None, None, 128)     32896       multiply_2[0][0]                 \n",
      "____________________________________________________________________________________________________\n",
      "conv1d_6 (Conv1D)                (None, None, 128)     32896       multiply_2[0][0]                 \n",
      "____________________________________________________________________________________________________\n",
      "multiply_3 (Multiply)            (None, None, 128)     0           conv1d_5[0][0]                   \n",
      "                                                                   conv1d_6[0][0]                   \n",
      "____________________________________________________________________________________________________\n",
      "conv1d_7 (Conv1D)                (None, None, 128)     32896       multiply_3[0][0]                 \n",
      "____________________________________________________________________________________________________\n",
      "conv1d_8 (Conv1D)                (None, None, 128)     32896       multiply_3[0][0]                 \n",
      "____________________________________________________________________________________________________\n",
      "multiply_4 (Multiply)            (None, None, 128)     0           conv1d_7[0][0]                   \n",
      "                                                                   conv1d_8[0][0]                   \n",
      "____________________________________________________________________________________________________\n",
      "conv1d_9 (Conv1D)                (None, None, 128)     32896       multiply_4[0][0]                 \n",
      "____________________________________________________________________________________________________\n",
      "conv1d_10 (Conv1D)               (None, None, 128)     32896       multiply_4[0][0]                 \n",
      "____________________________________________________________________________________________________\n",
      "multiply_5 (Multiply)            (None, None, 128)     0           conv1d_9[0][0]                   \n",
      "                                                                   conv1d_10[0][0]                  \n",
      "____________________________________________________________________________________________________\n",
      "conv1d_11 (Conv1D)               (None, None, 128)     32896       multiply_5[0][0]                 \n",
      "____________________________________________________________________________________________________\n",
      "conv1d_12 (Conv1D)               (None, None, 128)     32896       multiply_5[0][0]                 \n",
      "____________________________________________________________________________________________________\n",
      "multiply_6 (Multiply)            (None, None, 128)     0           conv1d_11[0][0]                  \n",
      "                                                                   conv1d_12[0][0]                  \n",
      "____________________________________________________________________________________________________\n",
      "conv1d_13 (Conv1D)               (None, None, 128)     32896       multiply_6[0][0]                 \n",
      "____________________________________________________________________________________________________\n",
      "conv1d_14 (Conv1D)               (None, None, 128)     32896       multiply_6[0][0]                 \n",
      "____________________________________________________________________________________________________\n",
      "multiply_7 (Multiply)            (None, None, 128)     0           conv1d_13[0][0]                  \n",
      "                                                                   conv1d_14[0][0]                  \n",
      "____________________________________________________________________________________________________\n",
      "conv1d_15 (Conv1D)               (None, None, 128)     32896       multiply_7[0][0]                 \n",
      "____________________________________________________________________________________________________\n",
      "conv1d_16 (Conv1D)               (None, None, 128)     32896       multiply_7[0][0]                 \n",
      "____________________________________________________________________________________________________\n",
      "multiply_8 (Multiply)            (None, None, 128)     0           conv1d_15[0][0]                  \n",
      "                                                                   conv1d_16[0][0]                  \n",
      "____________________________________________________________________________________________________\n",
      "conv1d_17 (Conv1D)               (None, None, 97)      12513       multiply_8[0][0]                 \n",
      "____________________________________________________________________________________________________\n",
      "conv1d_18 (Conv1D)               (None, None, 2)       258         multiply_8[0][0]                 \n",
      "====================================================================================================\n",
      "Total params: 551,523\n",
      "Trainable params: 551,523\n",
      "Non-trainable params: 0\n",
      "____________________________________________________________________________________________________\n",
      "None\n"
     ]
    }
   ],
   "source": [
    "print(model.summary())"
   ]
  },
  {
   "cell_type": "code",
   "execution_count": 14,
   "metadata": {},
   "outputs": [],
   "source": [
    "def generate_text(epoch=None, logs=None, length=400):\n",
    "    print()\n",
    "    print('-- epoch {0}\\n'.format(epoch))\n",
    "    bx, by = next(generate_data(batch_size=1, test=True))\n",
    "    bx = bx[0][-(2**num_layers):]\n",
    "    seed_str = ''.join([idx2char[i] for i in bx])\n",
    "    print('-- seed: {0}'.format(seed_str))\n",
    "    print()\n",
    "    for diversity in [0.2, 0.5, 1.0, 1.2]:\n",
    "        print('-- diversity: {0}'.format(diversity))\n",
    "        #sys.stdout.write(seed_str)\n",
    "        for i in range(length):\n",
    "            y, y_sent = model.predict(np.array([bx]))\n",
    "            # don't sample mask\n",
    "            y[0, -1, 0] = 0\n",
    "            y = sample(y[0, -1])\n",
    "            if y == 1:\n",
    "                break\n",
    "            c = idx2char[y]\n",
    "            sys.stdout.write(c)\n",
    "            sys.stdout.flush()\n",
    "            bx = bx[:][1:]\n",
    "            bx = np.concatenate((bx, [y]), axis=-1)\n",
    "        print('\\n')\n",
    "\n",
    "gen_callback = LambdaCallback(on_epoch_end=generate_text)"
   ]
  },
  {
   "cell_type": "code",
   "execution_count": 15,
   "metadata": {},
   "outputs": [],
   "source": [
    "def save_model(epoch=None, logs=None):\n",
    "    model.save('models/wntv_{0}.h5'.format(model_id))\n",
    "    print('saved model')\n",
    "\n",
    "save_callback = LambdaCallback(on_epoch_end=save_model)"
   ]
  },
  {
   "cell_type": "code",
   "execution_count": 16,
   "metadata": {},
   "outputs": [],
   "source": [
    "def trainfor(epochs, save=True, gen=True):\n",
    "    callbacks = [TQDMNotebookCallback()]\n",
    "    if save:\n",
    "        callbacks.append(save_callback)\n",
    "    if gen:\n",
    "        callbacks.append(gen_callback)\n",
    "    model.fit_generator(generate_data(), int(1e4), epochs,\n",
    "        verbose=0, callbacks=callbacks)"
   ]
  },
  {
   "cell_type": "code",
   "execution_count": 17,
   "metadata": {},
   "outputs": [
    {
     "data": {
      "application/vnd.jupyter.widget-view+json": {
       "model_id": "288b825672db4a6e8f10ebbed094f1b7",
       "version_major": 2,
       "version_minor": 0
      },
      "text/html": [
       "<p>Failed to display Jupyter Widget of type <code>HBox</code>.</p>\n",
       "<p>\n",
       "  If you're reading this message in the Jupyter Notebook or JupyterLab Notebook, it may mean\n",
       "  that the widgets JavaScript is still loading. If this message persists, it\n",
       "  likely means that the widgets JavaScript library is either not installed or\n",
       "  not enabled. See the <a href=\"https://ipywidgets.readthedocs.io/en/stable/user_install.html\">Jupyter\n",
       "  Widgets Documentation</a> for setup instructions.\n",
       "</p>\n",
       "<p>\n",
       "  If you're reading this message in another frontend (for example, a static\n",
       "  rendering on GitHub or <a href=\"https://nbviewer.jupyter.org/\">NBViewer</a>),\n",
       "  it may mean that your frontend doesn't currently support widgets.\n",
       "</p>\n"
      ],
      "text/plain": [
       "HBox(children=(IntProgress(value=0, description='Training', max=10), HTML(value='')))"
      ]
     },
     "metadata": {},
     "output_type": "display_data"
    },
    {
     "data": {
      "application/vnd.jupyter.widget-view+json": {
       "model_id": "",
       "version_major": 2,
       "version_minor": 0
      },
      "text/html": [
       "<p>Failed to display Jupyter Widget of type <code>HBox</code>.</p>\n",
       "<p>\n",
       "  If you're reading this message in the Jupyter Notebook or JupyterLab Notebook, it may mean\n",
       "  that the widgets JavaScript is still loading. If this message persists, it\n",
       "  likely means that the widgets JavaScript library is either not installed or\n",
       "  not enabled. See the <a href=\"https://ipywidgets.readthedocs.io/en/stable/user_install.html\">Jupyter\n",
       "  Widgets Documentation</a> for setup instructions.\n",
       "</p>\n",
       "<p>\n",
       "  If you're reading this message in another frontend (for example, a static\n",
       "  rendering on GitHub or <a href=\"https://nbviewer.jupyter.org/\">NBViewer</a>),\n",
       "  it may mean that your frontend doesn't currently support widgets.\n",
       "</p>\n"
      ],
      "text/plain": [
       "HBox(children=(IntProgress(value=0, description='Epoch 0', max=10000), HTML(value='')))"
      ]
     },
     "metadata": {},
     "output_type": "display_data"
    },
    {
     "name": "stdout",
     "output_type": "stream",
     "text": [
      "saved model\n",
      "\n",
      "-- epoch 0\n",
      "\n",
      "-- seed:                                                                                                                                             Received battery and it was dead. I charged it.Still dead. I cleaned the contacts, which seemed dirty...still dead. \n",
      "\n",
      "-- diversity: 0.2\n"
     ]
    },
    {
     "name": "stderr",
     "output_type": "stream",
     "text": [
      "c:\\users\\troy\\anaconda3\\lib\\site-packages\\ipykernel_launcher.py:3: RuntimeWarning: divide by zero encountered in log\n",
      "  This is separate from the ipykernel package so we can avoid doing imports until\n"
     ]
    },
    {
     "name": "stdout",
     "output_type": "stream",
     "text": [
      "It didn't got thero at only store it faipment and the najpror Eur Magno6* \n",
      "\n",
      "-- diversity: 0.5\n",
      "Bas written Protendated the vifting Giilelie Spinabras dongs ar the box on the HP+-won't have have something door wrekence doests to strolt/Went curled-even one's head shome. \n",
      "\n",
      "-- diversity: 1.0\n",
      "I have style. Ergliate and News (clape stalls or does big chelds\" to cxace I havem when mysteing as a grarner heagal hot fillers look pregation Clams. I would else sing...when onced at have seeing that is settings up up standing, (expensives suppose I'ch role that like the Wars were not but it with an orided and 2gibo is one a resport weimm said I would no quality payes. \n",
      "\n",
      "-- diversity: 1.2\n",
      "My bous meanks. Aftit kich, I can't have, mucoed, could check. bolly the brand cards and eye, lame. I feel could even exannel book and furming it upswquave that if it is times to not the imition and years that drant! There shutty harelilled hold, reading for cwe cooking I can, but I will understand there upsion polity entertaned, but you have coches through that buil shome to really buil botents l\n",
      "\n"
     ]
    },
    {
     "data": {
      "application/vnd.jupyter.widget-view+json": {
       "model_id": "",
       "version_major": 2,
       "version_minor": 0
      },
      "text/html": [
       "<p>Failed to display Jupyter Widget of type <code>HBox</code>.</p>\n",
       "<p>\n",
       "  If you're reading this message in the Jupyter Notebook or JupyterLab Notebook, it may mean\n",
       "  that the widgets JavaScript is still loading. If this message persists, it\n",
       "  likely means that the widgets JavaScript library is either not installed or\n",
       "  not enabled. See the <a href=\"https://ipywidgets.readthedocs.io/en/stable/user_install.html\">Jupyter\n",
       "  Widgets Documentation</a> for setup instructions.\n",
       "</p>\n",
       "<p>\n",
       "  If you're reading this message in another frontend (for example, a static\n",
       "  rendering on GitHub or <a href=\"https://nbviewer.jupyter.org/\">NBViewer</a>),\n",
       "  it may mean that your frontend doesn't currently support widgets.\n",
       "</p>\n"
      ],
      "text/plain": [
       "HBox(children=(IntProgress(value=0, description='Epoch 1', max=10000), HTML(value='')))"
      ]
     },
     "metadata": {},
     "output_type": "display_data"
    },
    {
     "name": "stdout",
     "output_type": "stream",
     "text": [
      "saved model\n",
      "\n",
      "-- epoch 1\n",
      "\n",
      "-- seed: od\" was absolutly astonishing. The re-birth of southern rock even. This, this, sounds like all the other crap you damn kids are listening to theese days-(that is a minus sign)a year or two. And for all y'all who don't like it, espodeeza.(that is a period) \n",
      "\n",
      "-- diversity: 0.2\n",
      "would should several on many stud as a weak curate the keeps, the day page is a birth which I had to get all with terrible shows \n",
      "\n",
      "-- diversity: 0.5\n",
      "because some of 3 on the various but charge. My Carblilate. I'll be homes. I cd sericle thit together emihes. I howledes the electric creativisouls loted... withouse, we contain failer my tovemic, and i am a compeletus out this delight --- no go of Fiult 4 (Good Aafs everything the USS baren's maangry, and herpy and how she left, makin' is a depictly who want to pund coDe worth what weody copy I h\n",
      "\n",
      "-- diversity: 1.0\n",
      "ave to head in recieve mebrability. We jecies or ridiculousble in with no good dvies, but is also gameshow that should\" piece the SNEN tepy makes release is seemed an inding. \n",
      "\n",
      "-- diversity: 1.2\n",
      "You influence, they single UST. I ordered it to the resolution to get up this, you can sit on. The book was reading the paper and is so bought the stated and recipative part. \n",
      "\n"
     ]
    },
    {
     "data": {
      "application/vnd.jupyter.widget-view+json": {
       "model_id": "",
       "version_major": 2,
       "version_minor": 0
      },
      "text/html": [
       "<p>Failed to display Jupyter Widget of type <code>HBox</code>.</p>\n",
       "<p>\n",
       "  If you're reading this message in the Jupyter Notebook or JupyterLab Notebook, it may mean\n",
       "  that the widgets JavaScript is still loading. If this message persists, it\n",
       "  likely means that the widgets JavaScript library is either not installed or\n",
       "  not enabled. See the <a href=\"https://ipywidgets.readthedocs.io/en/stable/user_install.html\">Jupyter\n",
       "  Widgets Documentation</a> for setup instructions.\n",
       "</p>\n",
       "<p>\n",
       "  If you're reading this message in another frontend (for example, a static\n",
       "  rendering on GitHub or <a href=\"https://nbviewer.jupyter.org/\">NBViewer</a>),\n",
       "  it may mean that your frontend doesn't currently support widgets.\n",
       "</p>\n"
      ],
      "text/plain": [
       "HBox(children=(IntProgress(value=0, description='Epoch 2', max=10000), HTML(value='')))"
      ]
     },
     "metadata": {},
     "output_type": "display_data"
    },
    {
     "name": "stdout",
     "output_type": "stream",
     "text": [
      "saved model\n",
      "\n",
      "-- epoch 2\n",
      "\n",
      "-- seed: azon as soon as it was possible. It was the biggest disappointment in my life, when I watched the movie. It was looking exactly the same as on VHS! Even subtitles were encoded on the screen. The chinese bootleg was a lot better than this original release! \n",
      "\n",
      "-- diversity: 0.2\n",
      "I part, button imodges to reality. \n",
      "\n",
      "-- diversity: 0.5\n",
      "Although in their hospysees to it on 1/2), stay fast. But the beliec one of my chocked. And the shagwortre! Ohe exception, if you away with how two must black and gui kissing in, it isn't not support for Xpoaebo maaning the large handle three day vocal. The book is flaft last tIttaked the test. So installed by a little cheap. \n",
      "\n",
      "-- diversity: 1.0\n",
      "Too causing business. I sent would do it over the heaust. \n",
      "\n",
      "-- diversity: 1.2\n",
      "This book defender after world-tettever the while thought properden you have a glasses for styone who has the same of the best pumedlits answered getting the rest brand historlotty, glush and grace to detail. \n",
      "\n"
     ]
    },
    {
     "data": {
      "application/vnd.jupyter.widget-view+json": {
       "model_id": "",
       "version_major": 2,
       "version_minor": 0
      },
      "text/html": [
       "<p>Failed to display Jupyter Widget of type <code>HBox</code>.</p>\n",
       "<p>\n",
       "  If you're reading this message in the Jupyter Notebook or JupyterLab Notebook, it may mean\n",
       "  that the widgets JavaScript is still loading. If this message persists, it\n",
       "  likely means that the widgets JavaScript library is either not installed or\n",
       "  not enabled. See the <a href=\"https://ipywidgets.readthedocs.io/en/stable/user_install.html\">Jupyter\n",
       "  Widgets Documentation</a> for setup instructions.\n",
       "</p>\n",
       "<p>\n",
       "  If you're reading this message in another frontend (for example, a static\n",
       "  rendering on GitHub or <a href=\"https://nbviewer.jupyter.org/\">NBViewer</a>),\n",
       "  it may mean that your frontend doesn't currently support widgets.\n",
       "</p>\n"
      ],
      "text/plain": [
       "HBox(children=(IntProgress(value=0, description='Epoch 3', max=10000), HTML(value='')))"
      ]
     },
     "metadata": {},
     "output_type": "display_data"
    },
    {
     "name": "stdout",
     "output_type": "stream",
     "text": [
      "saved model\n",
      "\n",
      "-- epoch 3\n",
      "\n",
      "-- seed: y been knitting for a couple of years, but thought this book would give me some helpful advise. I would reccommend (one of my most favorite books) \"Teach yourself Visually Knitting\" by Sharon Turner...lots of pictures with easy to understand intructions.. \n",
      "\n",
      "-- diversity: 0.2\n",
      "I wouldn't be long Orylus, and armg flaus've done standlible! I gave it working on time at advance this album was hole colling with inction and then to know. I useg, what you, on literational choices years, Christians for are jell food and who true to the Savins, therefy varial discan, however, then your fans, it's said time to the lengthrooms coasts approach two much getting it to fursion I recy \n",
      "\n",
      "-- diversity: 0.5\n",
      "music on pictured on the mail account, but this stutated bring is done turning up his reader star and great buy graorylighting and for the fisticss up plannerely on world. \n",
      "\n",
      "-- diversity: 1.0\n",
      "My levelation, and should praying the scene, percet imaginate, and skin. After oquel to Princlusion Chemally old Roves Gotten? FY\" her away. No kind of so purience. \n",
      "\n",
      "-- diversity: 1.2\n",
      "You don't don't usually fonder the toy in any mix. So the one my recording caused. I teated out but to \"tellnic. Mondie has hurt to keeple lining the bas on Tomble. \n",
      "\n"
     ]
    },
    {
     "data": {
      "application/vnd.jupyter.widget-view+json": {
       "model_id": "",
       "version_major": 2,
       "version_minor": 0
      },
      "text/html": [
       "<p>Failed to display Jupyter Widget of type <code>HBox</code>.</p>\n",
       "<p>\n",
       "  If you're reading this message in the Jupyter Notebook or JupyterLab Notebook, it may mean\n",
       "  that the widgets JavaScript is still loading. If this message persists, it\n",
       "  likely means that the widgets JavaScript library is either not installed or\n",
       "  not enabled. See the <a href=\"https://ipywidgets.readthedocs.io/en/stable/user_install.html\">Jupyter\n",
       "  Widgets Documentation</a> for setup instructions.\n",
       "</p>\n",
       "<p>\n",
       "  If you're reading this message in another frontend (for example, a static\n",
       "  rendering on GitHub or <a href=\"https://nbviewer.jupyter.org/\">NBViewer</a>),\n",
       "  it may mean that your frontend doesn't currently support widgets.\n",
       "</p>\n"
      ],
      "text/plain": [
       "HBox(children=(IntProgress(value=0, description='Epoch 4', max=10000), HTML(value='')))"
      ]
     },
     "metadata": {},
     "output_type": "display_data"
    },
    {
     "name": "stdout",
     "output_type": "stream",
     "text": [
      "saved model\n",
      "\n",
      "-- epoch 4\n",
      "\n",
      "-- seed: ow the question is why buy this mouse if you can't make use of all the functions?! Of course an optical mouse is a great improvement over the former mechanical ones, but you have alternatives to this specific one.I have purchased a similar product (an opti\n",
      "\n",
      "-- diversity: 0.2\n",
      "on, was is so many waffles that I wanzoial around read many different examples wheels on \"Dodwooa you are of Trait bookabeautiful Histical works.This is the base is truly rune out what just about 1pend this kept well, but you could not personallythlages if her how to say and still think in the world close, and Bewago less is seriously type. \n",
      "\n",
      "-- diversity: 0.5\n",
      "\n",
      "\n",
      "-- diversity: 1.0\n",
      "All of the markine dench they really great through the presups is a fantasser bad) and sit, these backs I've ever relies. The shorte. The actual's only thin a business I finally one could have to do in the battery album \n",
      "\n",
      "-- diversity: 1.2\n",
      "(these volument belt is riods. A part of shift \n",
      "\n"
     ]
    },
    {
     "data": {
      "application/vnd.jupyter.widget-view+json": {
       "model_id": "",
       "version_major": 2,
       "version_minor": 0
      },
      "text/html": [
       "<p>Failed to display Jupyter Widget of type <code>HBox</code>.</p>\n",
       "<p>\n",
       "  If you're reading this message in the Jupyter Notebook or JupyterLab Notebook, it may mean\n",
       "  that the widgets JavaScript is still loading. If this message persists, it\n",
       "  likely means that the widgets JavaScript library is either not installed or\n",
       "  not enabled. See the <a href=\"https://ipywidgets.readthedocs.io/en/stable/user_install.html\">Jupyter\n",
       "  Widgets Documentation</a> for setup instructions.\n",
       "</p>\n",
       "<p>\n",
       "  If you're reading this message in another frontend (for example, a static\n",
       "  rendering on GitHub or <a href=\"https://nbviewer.jupyter.org/\">NBViewer</a>),\n",
       "  it may mean that your frontend doesn't currently support widgets.\n",
       "</p>\n"
      ],
      "text/plain": [
       "HBox(children=(IntProgress(value=0, description='Epoch 5', max=10000), HTML(value='')))"
      ]
     },
     "metadata": {},
     "output_type": "display_data"
    },
    {
     "name": "stdout",
     "output_type": "stream",
     "text": [
      "saved model\n",
      "\n",
      "-- epoch 5\n",
      "\n",
      "-- seed:  so bad that it seems as if this guy is trying to degrade Josh. I don't know why---Josh only brings joy to anyone who hears him. I hope nobody is fooled into buying this by the title. I agree with other reviewers who wish there was a \"zero star\" category. \n",
      "\n",
      "-- diversity: 0.2\n",
      "And her so instead on cliwes right by Leeon Drive feel/fan of under lives with triday has been a LOT nardoff, then it will be know special fantastic. I wouldn't as amortding them because I would make it just recently for the worst Cheer, and has been reading, since I like the cent from the bigital as left less only then your storget customer, but its due to disposable. I've reading this book, usar\n",
      "\n",
      "-- diversity: 0.5\n",
      "ly for a few digital copy unknown, it's next. My for it. The design hideoized. Wound quality well!! \n",
      "\n",
      "-- diversity: 1.0\n",
      "While wonning remackine for cont and keepers, reading to decommend role thing that I review, the thrash is. Haarliate the voices of Movisy Johnlock, your into a Zolid Swovine is not con her friend Jewn of this is great out of the surfer-483 was my best. \n",
      "\n",
      "-- diversity: 1.2\n",
      "I don't keep the girls bored, I'm sure to read this book then grandthis work ineoop known. DO NOT GOTTER ANYTHED DEELITENTAENLY MOVAN ONSUBE.PRICOPY EWAYENT WOULD SOMAC'S SEFR-CD'SOU MUCH GLAS,.) \n",
      "\n"
     ]
    },
    {
     "data": {
      "application/vnd.jupyter.widget-view+json": {
       "model_id": "",
       "version_major": 2,
       "version_minor": 0
      },
      "text/html": [
       "<p>Failed to display Jupyter Widget of type <code>HBox</code>.</p>\n",
       "<p>\n",
       "  If you're reading this message in the Jupyter Notebook or JupyterLab Notebook, it may mean\n",
       "  that the widgets JavaScript is still loading. If this message persists, it\n",
       "  likely means that the widgets JavaScript library is either not installed or\n",
       "  not enabled. See the <a href=\"https://ipywidgets.readthedocs.io/en/stable/user_install.html\">Jupyter\n",
       "  Widgets Documentation</a> for setup instructions.\n",
       "</p>\n",
       "<p>\n",
       "  If you're reading this message in another frontend (for example, a static\n",
       "  rendering on GitHub or <a href=\"https://nbviewer.jupyter.org/\">NBViewer</a>),\n",
       "  it may mean that your frontend doesn't currently support widgets.\n",
       "</p>\n"
      ],
      "text/plain": [
       "HBox(children=(IntProgress(value=0, description='Epoch 6', max=10000), HTML(value='')))"
      ]
     },
     "metadata": {},
     "output_type": "display_data"
    },
    {
     "name": "stdout",
     "output_type": "stream",
     "text": [
      "saved model\n",
      "\n",
      "-- epoch 6\n",
      "\n",
      "-- seed:                                                                                       Absolutely fantastic series.BUT THE SOUND TRACK THAT ACCOMPANIES IT IS SO ANNOYING THAT I'D LIKE TO CHOKE OUT THE PRODUCER .AT TIMES IT ACTUALLY DROWNS OUT THE DIALOGUE. \n",
      "\n",
      "-- diversity: 0.2\n",
      "BUY I WOWN FASE STORY AREVER YOU LEVEN WAS THIS IS DVD ENDROMRE A VRETAVE IF YOU STORLIFTLityme EDP ALP CREWE \n",
      "\n",
      "-- diversity: 0.5\n",
      "READE AS (IT GET Ro23 OF ANM FOR SWOLBOD - ACCRABALY DICRAVER COBONTONS REVERYED OROE IT. Mblairs text would after FOR SMB but I have AM (..but the score singing a family just got have alocking. Still, but they are making and layassourply would be a new. \n",
      "\n",
      "-- diversity: 1.0\n",
      "I am now usually, he would purct park it, draws NNH ES,it after heavy to have to say that I like more him ridden. It's large will make not as a decusine can-run and docuygrainer disposually you feel easily, and interesting. Best gravo. Don't easier when it great, and along with ways. Gae, artificy rather format issues rather sterek, and not the characters kids acting that I want to pilation in som\n",
      "\n",
      "-- diversity: 1.2\n",
      "e male problem of a excellent genera to buy it. \n",
      "\n"
     ]
    },
    {
     "data": {
      "application/vnd.jupyter.widget-view+json": {
       "model_id": "",
       "version_major": 2,
       "version_minor": 0
      },
      "text/html": [
       "<p>Failed to display Jupyter Widget of type <code>HBox</code>.</p>\n",
       "<p>\n",
       "  If you're reading this message in the Jupyter Notebook or JupyterLab Notebook, it may mean\n",
       "  that the widgets JavaScript is still loading. If this message persists, it\n",
       "  likely means that the widgets JavaScript library is either not installed or\n",
       "  not enabled. See the <a href=\"https://ipywidgets.readthedocs.io/en/stable/user_install.html\">Jupyter\n",
       "  Widgets Documentation</a> for setup instructions.\n",
       "</p>\n",
       "<p>\n",
       "  If you're reading this message in another frontend (for example, a static\n",
       "  rendering on GitHub or <a href=\"https://nbviewer.jupyter.org/\">NBViewer</a>),\n",
       "  it may mean that your frontend doesn't currently support widgets.\n",
       "</p>\n"
      ],
      "text/plain": [
       "HBox(children=(IntProgress(value=0, description='Epoch 7', max=10000), HTML(value='')))"
      ]
     },
     "metadata": {},
     "output_type": "display_data"
    },
    {
     "name": "stdout",
     "output_type": "stream",
     "text": [
      "saved model\n",
      "\n",
      "-- epoch 7\n",
      "\n",
      "-- seed: n three days,AND in bed, after a bad accident. It has taken me two years to write mine and as a result of reading her book I was empowered to start another e-book which I completed in just a couple of weeks.Thank you Ponn for your courage and inspiration. \n",
      "\n",
      "-- diversity: 0.2\n",
      "\n",
      "\n",
      "-- diversity: 0.5\n",
      "It's though a result seem at the top bulboard to see I underfeverable and $226 on insight adaptruncs and doing scratchen the help this with a for the search and off too. In 16 along ruines and fighting. It was another of Transfer is really the movies and it works to stand about together. I'm knowledge songs that game, and his old very disappointed by the jutrefippa) off for 12 software, Timardrein\n",
      "\n",
      "-- diversity: 1.0\n",
      "d of. Is the good being as it information. What a detailed finished. Ocal abr. If uso expercial book would just happening on the invalued and cast and you turn it.Nice pieces with the actualary a complicated I am \"Spais. I enjoy the old scope better language and his customer service, yud reads decade fast\" and that never love (we were set, I would want to use but he overting over this book out the\n",
      "\n",
      "-- diversity: 1.2\n",
      "re is no hardware the mouthpero,\" your company and seller and raps being to the ear support unless you do not recs. Snaking them. You cant be expected, something the right and but again. Who nutes attached of the cover was a better or the horrible lginehanesle strongers 5 character leveling dvoludina willahicient, provides can transform and the plastic just one on those didn't even thought then mu\n",
      "\n"
     ]
    },
    {
     "data": {
      "application/vnd.jupyter.widget-view+json": {
       "model_id": "",
       "version_major": 2,
       "version_minor": 0
      },
      "text/html": [
       "<p>Failed to display Jupyter Widget of type <code>HBox</code>.</p>\n",
       "<p>\n",
       "  If you're reading this message in the Jupyter Notebook or JupyterLab Notebook, it may mean\n",
       "  that the widgets JavaScript is still loading. If this message persists, it\n",
       "  likely means that the widgets JavaScript library is either not installed or\n",
       "  not enabled. See the <a href=\"https://ipywidgets.readthedocs.io/en/stable/user_install.html\">Jupyter\n",
       "  Widgets Documentation</a> for setup instructions.\n",
       "</p>\n",
       "<p>\n",
       "  If you're reading this message in another frontend (for example, a static\n",
       "  rendering on GitHub or <a href=\"https://nbviewer.jupyter.org/\">NBViewer</a>),\n",
       "  it may mean that your frontend doesn't currently support widgets.\n",
       "</p>\n"
      ],
      "text/plain": [
       "HBox(children=(IntProgress(value=0, description='Epoch 8', max=10000), HTML(value='')))"
      ]
     },
     "metadata": {},
     "output_type": "display_data"
    },
    {
     "name": "stdout",
     "output_type": "stream",
     "text": [
      "saved model\n",
      "\n",
      "-- epoch 8\n",
      "\n",
      "-- seed: acters. The sense that you never really know someone...or something. There is much that you will never know. The book flowed perfectly from chapter to chapter and I couldn't put it down. Thanks Alice Hoffman for making me stay up past my bedtime once again\n",
      "\n",
      "-- diversity: 0.2\n",
      ", and it sand really concern. It's so well CDGOA Ston's any cartoon printing and the first they just time.Totally threw the most. Even all 1 drag also in a descriptions. While apixigals were pretty giving and the worst album reinforce all that care and avoid for the coffee style in the. NEVSVEN years all to Jahrough him is a meeler. \n",
      "\n",
      "-- diversity: 0.5\n",
      "So, it was him to the result yet portrayy. Villed is the intepart all but this book is not accyy anything like 30 part isn't!!!!~ Jechism, nicely even knys this. \n",
      "\n",
      "-- diversity: 1.0\n",
      "I absolutlent when the meatened to smorteen today to into \"also reading this book is like free) about holding possible, it is a nice product.. \n",
      "\n",
      "-- diversity: 1.2\n",
      "\n",
      "\n"
     ]
    },
    {
     "data": {
      "application/vnd.jupyter.widget-view+json": {
       "model_id": "",
       "version_major": 2,
       "version_minor": 0
      },
      "text/html": [
       "<p>Failed to display Jupyter Widget of type <code>HBox</code>.</p>\n",
       "<p>\n",
       "  If you're reading this message in the Jupyter Notebook or JupyterLab Notebook, it may mean\n",
       "  that the widgets JavaScript is still loading. If this message persists, it\n",
       "  likely means that the widgets JavaScript library is either not installed or\n",
       "  not enabled. See the <a href=\"https://ipywidgets.readthedocs.io/en/stable/user_install.html\">Jupyter\n",
       "  Widgets Documentation</a> for setup instructions.\n",
       "</p>\n",
       "<p>\n",
       "  If you're reading this message in another frontend (for example, a static\n",
       "  rendering on GitHub or <a href=\"https://nbviewer.jupyter.org/\">NBViewer</a>),\n",
       "  it may mean that your frontend doesn't currently support widgets.\n",
       "</p>\n"
      ],
      "text/plain": [
       "HBox(children=(IntProgress(value=0, description='Epoch 9', max=10000), HTML(value='')))"
      ]
     },
     "metadata": {},
     "output_type": "display_data"
    },
    {
     "name": "stdout",
     "output_type": "stream",
     "text": [
      "saved model\n",
      "\n",
      "-- epoch 9\n",
      "\n",
      "-- seed: a TV and that lady still look fat & short.One note, try not to use this TV with the 4:3 mode. Similar to other rear projection TV, LCD, plasma TV, the 2 sides of the screen may generate color/contrast/brightness mismatch when being used in that mode for an\n",
      "\n",
      "-- diversity: 0.2\n",
      " at contribules or an easier goes so much better his move to date of mothers are for a group. \n",
      "\n",
      "-- diversity: 0.5\n",
      "This is the best particular eaping reading, audio dremed and cassional bad star him dish at the actors from the house book was hard to get AWL. But is one of the best storamed. \n",
      "\n",
      "-- diversity: 1.0\n",
      "It was also right! It has been bules so so far. On. Was a lot of No'sned CLtFR4. \n",
      "\n",
      "-- diversity: 1.2\n",
      "However, the only issue in great for years. The only code, that's snot absolute. It all, left the way for people it rocks, terribly wonderful simply more of patternold from the closer sick not introll world but in a while. We un buround of moms. \n",
      "\n",
      "\n"
     ]
    }
   ],
   "source": [
    "trainfor(10)"
   ]
  },
  {
   "cell_type": "code",
   "execution_count": 18,
   "metadata": {},
   "outputs": [
    {
     "data": {
      "application/vnd.jupyter.widget-view+json": {
       "model_id": "060de6d94f46469da5f8dff7510c8b64",
       "version_major": 2,
       "version_minor": 0
      },
      "text/html": [
       "<p>Failed to display Jupyter Widget of type <code>HBox</code>.</p>\n",
       "<p>\n",
       "  If you're reading this message in the Jupyter Notebook or JupyterLab Notebook, it may mean\n",
       "  that the widgets JavaScript is still loading. If this message persists, it\n",
       "  likely means that the widgets JavaScript library is either not installed or\n",
       "  not enabled. See the <a href=\"https://ipywidgets.readthedocs.io/en/stable/user_install.html\">Jupyter\n",
       "  Widgets Documentation</a> for setup instructions.\n",
       "</p>\n",
       "<p>\n",
       "  If you're reading this message in another frontend (for example, a static\n",
       "  rendering on GitHub or <a href=\"https://nbviewer.jupyter.org/\">NBViewer</a>),\n",
       "  it may mean that your frontend doesn't currently support widgets.\n",
       "</p>\n"
      ],
      "text/plain": [
       "HBox(children=(IntProgress(value=0, description='Training', max=1000000000), HTML(value='')))"
      ]
     },
     "metadata": {},
     "output_type": "display_data"
    },
    {
     "data": {
      "application/vnd.jupyter.widget-view+json": {
       "model_id": "",
       "version_major": 2,
       "version_minor": 0
      },
      "text/html": [
       "<p>Failed to display Jupyter Widget of type <code>HBox</code>.</p>\n",
       "<p>\n",
       "  If you're reading this message in the Jupyter Notebook or JupyterLab Notebook, it may mean\n",
       "  that the widgets JavaScript is still loading. If this message persists, it\n",
       "  likely means that the widgets JavaScript library is either not installed or\n",
       "  not enabled. See the <a href=\"https://ipywidgets.readthedocs.io/en/stable/user_install.html\">Jupyter\n",
       "  Widgets Documentation</a> for setup instructions.\n",
       "</p>\n",
       "<p>\n",
       "  If you're reading this message in another frontend (for example, a static\n",
       "  rendering on GitHub or <a href=\"https://nbviewer.jupyter.org/\">NBViewer</a>),\n",
       "  it may mean that your frontend doesn't currently support widgets.\n",
       "</p>\n"
      ],
      "text/plain": [
       "HBox(children=(IntProgress(value=0, description='Epoch 0', max=10000), HTML(value='')))"
      ]
     },
     "metadata": {},
     "output_type": "display_data"
    },
    {
     "name": "stdout",
     "output_type": "stream",
     "text": [
      "saved model\n",
      "\n",
      "-- epoch 0\n",
      "\n",
      "-- seed:                                                                                                             It was the best value for my money, with four grandchildren using it. They had no trouble attaching it to the easel. The paper was very heavy duty. \n",
      "\n",
      "-- diversity: 0.2\n"
     ]
    },
    {
     "name": "stderr",
     "output_type": "stream",
     "text": [
      "c:\\users\\troy\\anaconda3\\lib\\site-packages\\ipykernel_launcher.py:3: RuntimeWarning: divide by zero encountered in log\n",
      "  This is separate from the ipykernel package so we can avoid doing imports until\n"
     ]
    },
    {
     "name": "stdout",
     "output_type": "stream",
     "text": [
      "I have learned this thing simply to fascinety\". Well, have narrating thoughts and I shared more than the cuts\" of Girl\" \"Waits Lem down and Az; but whist, the scallet bungan beats much better book to answeros. I have a Himate amazon. But i\"Ander. \n",
      "\n",
      "-- diversity: 0.5\n",
      "Don't waste your money I don't think that role. If you are shode, Amazon constantly nothing like this film of big at about what they are the most obzies it red. Did repes]. I have liked the author to ruinnia bukes: Deaff once with Christmas) geber and talking to the class.Was slog no matter-5 dvd. If you want my teased as my back in last time. If they weren it when a Suds all they worked oneetingi\n",
      "\n",
      "-- diversity: 1.0\n",
      "ng said the variety of pleasure and good thing would hundred to beliefbeant window a nemoods. The characters\" what is, Comparers that it kinda with their change a lot of save it does those trouble book. Every time I got play for octful number's time to helpful to so)they think they never real description and well over the pan doesn't fits which are ramblolines people you higher to buy fracing lidg\n",
      "\n",
      "-- diversity: 1.2\n",
      ".It took, words he founded too bass odon't wanted happy moblight after it doesn't bad chet-to saik that the almun. I received me i Chipped Bulker's goinne is one of the book was a big punkes we will about another boom buying lembanal film\" roll for Ruticted. This dis the movies. All the series. He has a murder main chemiefs for a little cover or song. Only to read beyond blever and then break. I w\n",
      "\n"
     ]
    },
    {
     "data": {
      "application/vnd.jupyter.widget-view+json": {
       "model_id": "",
       "version_major": 2,
       "version_minor": 0
      },
      "text/html": [
       "<p>Failed to display Jupyter Widget of type <code>HBox</code>.</p>\n",
       "<p>\n",
       "  If you're reading this message in the Jupyter Notebook or JupyterLab Notebook, it may mean\n",
       "  that the widgets JavaScript is still loading. If this message persists, it\n",
       "  likely means that the widgets JavaScript library is either not installed or\n",
       "  not enabled. See the <a href=\"https://ipywidgets.readthedocs.io/en/stable/user_install.html\">Jupyter\n",
       "  Widgets Documentation</a> for setup instructions.\n",
       "</p>\n",
       "<p>\n",
       "  If you're reading this message in another frontend (for example, a static\n",
       "  rendering on GitHub or <a href=\"https://nbviewer.jupyter.org/\">NBViewer</a>),\n",
       "  it may mean that your frontend doesn't currently support widgets.\n",
       "</p>\n"
      ],
      "text/plain": [
       "HBox(children=(IntProgress(value=0, description='Epoch 1', max=10000), HTML(value='')))"
      ]
     },
     "metadata": {},
     "output_type": "display_data"
    },
    {
     "name": "stdout",
     "output_type": "stream",
     "text": [
      "saved model\n",
      "\n",
      "-- epoch 1\n",
      "\n",
      "-- seed:                                                                                                      Thicker than I thought it would be. Utterly worthless for reading Menus in a restaurant (unless you want to make a complete fool out of yourself). A joke. \n",
      "\n",
      "-- diversity: 0.2\n",
      "Best -,\" Basicploitto of Kentena pset. There is not flash, they strong and notes He is helpful. I had $.! \n",
      "\n",
      "-- diversity: 0.5\n",
      "\n",
      "\n",
      "-- diversity: 1.0\n",
      "\n",
      "\n",
      "-- diversity: 1.2\n",
      "Don't provide the table mother songs and they sell this was my husband to a tape...Critics CD self-condensational actually out of a remote; this is educerial message and Adooge their share when authors IROEBIN racked it with comparison-CD invaluably lyrics (read. \n",
      "\n"
     ]
    },
    {
     "data": {
      "application/vnd.jupyter.widget-view+json": {
       "model_id": "",
       "version_major": 2,
       "version_minor": 0
      },
      "text/html": [
       "<p>Failed to display Jupyter Widget of type <code>HBox</code>.</p>\n",
       "<p>\n",
       "  If you're reading this message in the Jupyter Notebook or JupyterLab Notebook, it may mean\n",
       "  that the widgets JavaScript is still loading. If this message persists, it\n",
       "  likely means that the widgets JavaScript library is either not installed or\n",
       "  not enabled. See the <a href=\"https://ipywidgets.readthedocs.io/en/stable/user_install.html\">Jupyter\n",
       "  Widgets Documentation</a> for setup instructions.\n",
       "</p>\n",
       "<p>\n",
       "  If you're reading this message in another frontend (for example, a static\n",
       "  rendering on GitHub or <a href=\"https://nbviewer.jupyter.org/\">NBViewer</a>),\n",
       "  it may mean that your frontend doesn't currently support widgets.\n",
       "</p>\n"
      ],
      "text/plain": [
       "HBox(children=(IntProgress(value=0, description='Epoch 2', max=10000), HTML(value='')))"
      ]
     },
     "metadata": {},
     "output_type": "display_data"
    },
    {
     "name": "stdout",
     "output_type": "stream",
     "text": [
      "saved model\n",
      "\n",
      "-- epoch 2\n",
      "\n",
      "-- seed: esting. I had to read it for a school project and i'm glad i picked this book because it really helped me realize what the blacks really had to go through and that wasn't even 1/2 of it. I recommend it to everyone because it was such a heart warming book. \n",
      "\n",
      "-- diversity: 0.2\n",
      "Trucks level in CD when I don't arrive a mesults of continuous book to see what she loves product) sure. I keep getting exercies. i do never heard to hearing Jerriss!!! \n",
      "\n",
      "-- diversity: 0.5\n",
      "\n",
      "\n",
      "-- diversity: 1.0\n",
      "\n",
      "\n",
      "-- diversity: 1.2\n",
      "The last year from Amazon helped to carf. While fairly at options. \n",
      "\n"
     ]
    },
    {
     "data": {
      "application/vnd.jupyter.widget-view+json": {
       "model_id": "",
       "version_major": 2,
       "version_minor": 0
      },
      "text/html": [
       "<p>Failed to display Jupyter Widget of type <code>HBox</code>.</p>\n",
       "<p>\n",
       "  If you're reading this message in the Jupyter Notebook or JupyterLab Notebook, it may mean\n",
       "  that the widgets JavaScript is still loading. If this message persists, it\n",
       "  likely means that the widgets JavaScript library is either not installed or\n",
       "  not enabled. See the <a href=\"https://ipywidgets.readthedocs.io/en/stable/user_install.html\">Jupyter\n",
       "  Widgets Documentation</a> for setup instructions.\n",
       "</p>\n",
       "<p>\n",
       "  If you're reading this message in another frontend (for example, a static\n",
       "  rendering on GitHub or <a href=\"https://nbviewer.jupyter.org/\">NBViewer</a>),\n",
       "  it may mean that your frontend doesn't currently support widgets.\n",
       "</p>\n"
      ],
      "text/plain": [
       "HBox(children=(IntProgress(value=0, description='Epoch 3', max=10000), HTML(value='')))"
      ]
     },
     "metadata": {},
     "output_type": "display_data"
    },
    {
     "name": "stdout",
     "output_type": "stream",
     "text": [
      "saved model\n",
      "\n",
      "-- epoch 3\n",
      "\n",
      "-- seed:                                             Use all flavors to flavor food without calories and sugar. Tastes great, but you MUST be careful on pricing. I only paid $2.99 per bottle and at the time of writing this, the price is now $6.95. Consumer beware! \n",
      "\n",
      "-- diversity: 0.2\n",
      "will by Earth the Generant''s brings and a composed his masters killed tried to end.The handling retire immediately, so. Its well to metap today song, I always run story movie. This is an intentions. i gave about $31).It's providing these badleny and significance. \n",
      "\n",
      "-- diversity: 0.5\n",
      "I use it or Juliatura and Can't Great Gods IN charged in programs. She going to read at a hero and it seems a good for 1.1- Toge. I am essofs sense true musice without but the remake, and in the bieome actors a continue that successfully boring, and have the naffet. When I heard a word of action and guaracneocher,=- However, the story line, in children is indeed covers that cealing out\" and with t\n",
      "\n",
      "-- diversity: 1.0\n",
      "hose TV. \n",
      "\n",
      "-- diversity: 1.2\n",
      "I suggest using text, the characters were as pictures doesn't only that I can't beat most of thing; missing eat stay in their dvd. Several others better worked, but the record game to get the CD, and country of the last a relationship these obtaining, day who gave the shocked and I pans to try and this is not 5-10nor, DTF, Zamso Cracto, Love and sometimes of a real relating moding,only Khart \n",
      "\n"
     ]
    },
    {
     "data": {
      "application/vnd.jupyter.widget-view+json": {
       "model_id": "",
       "version_major": 2,
       "version_minor": 0
      },
      "text/html": [
       "<p>Failed to display Jupyter Widget of type <code>HBox</code>.</p>\n",
       "<p>\n",
       "  If you're reading this message in the Jupyter Notebook or JupyterLab Notebook, it may mean\n",
       "  that the widgets JavaScript is still loading. If this message persists, it\n",
       "  likely means that the widgets JavaScript library is either not installed or\n",
       "  not enabled. See the <a href=\"https://ipywidgets.readthedocs.io/en/stable/user_install.html\">Jupyter\n",
       "  Widgets Documentation</a> for setup instructions.\n",
       "</p>\n",
       "<p>\n",
       "  If you're reading this message in another frontend (for example, a static\n",
       "  rendering on GitHub or <a href=\"https://nbviewer.jupyter.org/\">NBViewer</a>),\n",
       "  it may mean that your frontend doesn't currently support widgets.\n",
       "</p>\n"
      ],
      "text/plain": [
       "HBox(children=(IntProgress(value=0, description='Epoch 4', max=10000), HTML(value='')))"
      ]
     },
     "metadata": {},
     "output_type": "display_data"
    },
    {
     "name": "stdout",
     "output_type": "stream",
     "text": [
      "saved model\n",
      "\n",
      "-- epoch 4\n",
      "\n",
      "-- seed:                                    Bought for my son who is 16. The bag is well built with a lot of padding and large pockets. He loves it. I would not hesitate to buy this bag again. Well worth the money. Shipped out fast and arrived on time as promised. \n",
      "\n",
      "-- diversity: 0.2\n",
      "They were working wypparances areas from the tea girlfrica. So dog might. Where if other story models a wonderful, or our antots, but other than the humor slided: Amazon for at English, a really gave me hearings. Readers. The things are much better? Iflesher was very broade my ceast two picture of Acceview container again. It for some position of your first lies Luck Kindle Season/solution again, \n",
      "\n",
      "-- diversity: 0.5\n",
      "I found problems, but I highly be my favourit and I ordered sleep takes while to get more about and went being mix or hype a movie: \"wravery which are very hard as much down doing anything suspense small fact that drugs saved apart advis who needs. It air I have ever owned insipild group, eveler. The actor months, listening to sit was boring u noticed thru expbo. But I'm an other after just like t\n",
      "\n",
      "-- diversity: 1.0\n",
      "his book, boynt way too much time clocking these or a fairyn inseem in her back my extenside NO  Daxista 2083. While is a large in America at all. I was able to desi short. Where me growing into a lasting even in stick, the mark works great, the intensively, addressing. \n",
      "\n",
      "-- diversity: 1.2\n",
      "I read their reps Everytimized all is thing realize/their familil ever. Search fi, they are specs\" for it over the tub and the keyboard. There is not complete after sore opera usual's points were excellent from a nobodies before version that I rgrath 2 4 helpful murder's radios. Another; too much pain here city was as action bank has been good dealh walselden laptops are in stores. This is a wonde\n",
      "\n"
     ]
    },
    {
     "data": {
      "application/vnd.jupyter.widget-view+json": {
       "model_id": "",
       "version_major": 2,
       "version_minor": 0
      },
      "text/html": [
       "<p>Failed to display Jupyter Widget of type <code>HBox</code>.</p>\n",
       "<p>\n",
       "  If you're reading this message in the Jupyter Notebook or JupyterLab Notebook, it may mean\n",
       "  that the widgets JavaScript is still loading. If this message persists, it\n",
       "  likely means that the widgets JavaScript library is either not installed or\n",
       "  not enabled. See the <a href=\"https://ipywidgets.readthedocs.io/en/stable/user_install.html\">Jupyter\n",
       "  Widgets Documentation</a> for setup instructions.\n",
       "</p>\n",
       "<p>\n",
       "  If you're reading this message in another frontend (for example, a static\n",
       "  rendering on GitHub or <a href=\"https://nbviewer.jupyter.org/\">NBViewer</a>),\n",
       "  it may mean that your frontend doesn't currently support widgets.\n",
       "</p>\n"
      ],
      "text/plain": [
       "HBox(children=(IntProgress(value=0, description='Epoch 5', max=10000), HTML(value='')))"
      ]
     },
     "metadata": {},
     "output_type": "display_data"
    },
    {
     "name": "stdout",
     "output_type": "stream",
     "text": [
      "saved model\n",
      "\n",
      "-- epoch 5\n",
      "\n",
      "-- seed: otions, even the story itself is not bad, but detailing it closer to the end is just too much.Spoilers here onward --> I mean a plant that can eat people is good fiction, but a plant that speak german and imitate smells of hamburger, then this is bad!!!!! \n",
      "\n",
      "-- diversity: 0.2\n",
      "Is better leaked out still very positive deep for kids that it came off behind taking brands obtained that as my car as the gi-Beatens to wade work having cd, but like a long symphony shut on the late 1959 which added, and easy and pressure eoolgucks, best between Neam banjo ever even increase all very well learn is superb.MS disk band spirited by in a greater so you can fit 8th previously, but no\n",
      "\n",
      "-- diversity: 0.5\n",
      "w it should can't be assertive retractive. Only practice, like many of 8 They've thought has irony, and the reviewing Heavy being color-off uplorates any feel to add airing, are a few years at \"agbicity of Effefloassage. It's tor a dog. Do Now WANTA THE CAN a bores of the Morris are hoping to finish. But the price is just starting victims\" they are quite a very good! Thanks to younother lake most \n",
      "\n",
      "-- diversity: 1.0\n",
      "of the dan fuviles that it she who says for you tubse it sawing it if it once at sells in student. I bought it up.It pink, but I was very Pas this thing would recommend it to sticks look gardening, but something to getting the stories.After still people without lack of the movie will jobgousputs, one to I had colors) especially if it so with endurtre, and it even doing adjustably plot), about the \n",
      "\n",
      "-- diversity: 1.2\n",
      "entire cold while and witged didn't encouruvise, pleasure that makaar is below i always complaints and cookbook. Well worth orgot they really love. Maybe I am just chapters. At nihe time in something I had to warious does writings market finds the phrases, the price is shipping and cloth words. The book we got it tizrics that in the album life on her ideas stands, he uses peoplending r Baste. I wa\n",
      "\n"
     ]
    },
    {
     "data": {
      "application/vnd.jupyter.widget-view+json": {
       "model_id": "7c994896ea6042a59855e05faf79427b",
       "version_major": 2,
       "version_minor": 0
      },
      "text/html": [
       "<p>Failed to display Jupyter Widget of type <code>HBox</code>.</p>\n",
       "<p>\n",
       "  If you're reading this message in the Jupyter Notebook or JupyterLab Notebook, it may mean\n",
       "  that the widgets JavaScript is still loading. If this message persists, it\n",
       "  likely means that the widgets JavaScript library is either not installed or\n",
       "  not enabled. See the <a href=\"https://ipywidgets.readthedocs.io/en/stable/user_install.html\">Jupyter\n",
       "  Widgets Documentation</a> for setup instructions.\n",
       "</p>\n",
       "<p>\n",
       "  If you're reading this message in another frontend (for example, a static\n",
       "  rendering on GitHub or <a href=\"https://nbviewer.jupyter.org/\">NBViewer</a>),\n",
       "  it may mean that your frontend doesn't currently support widgets.\n",
       "</p>\n"
      ],
      "text/plain": [
       "HBox(children=(IntProgress(value=0, description='Epoch 6', max=10000), HTML(value='')))"
      ]
     },
     "metadata": {},
     "output_type": "display_data"
    },
    {
     "ename": "KeyboardInterrupt",
     "evalue": "",
     "output_type": "error",
     "traceback": [
      "\u001b[1;31m---------------------------------------------------------------------------\u001b[0m",
      "\u001b[1;31mKeyboardInterrupt\u001b[0m                         Traceback (most recent call last)",
      "\u001b[1;32m<ipython-input-18-f2fc937d332c>\u001b[0m in \u001b[0;36m<module>\u001b[1;34m()\u001b[0m\n\u001b[0;32m      1\u001b[0m \u001b[0madam\u001b[0m \u001b[1;33m=\u001b[0m \u001b[0mAdam\u001b[0m\u001b[1;33m(\u001b[0m\u001b[1;36m0.0005\u001b[0m\u001b[1;33m)\u001b[0m\u001b[1;33m\u001b[0m\u001b[0m\n\u001b[0;32m      2\u001b[0m \u001b[0mmodel\u001b[0m\u001b[1;33m.\u001b[0m\u001b[0mcompile\u001b[0m\u001b[1;33m(\u001b[0m\u001b[0moptimizer\u001b[0m\u001b[1;33m=\u001b[0m\u001b[0madam\u001b[0m\u001b[1;33m,\u001b[0m \u001b[0mloss\u001b[0m\u001b[1;33m=\u001b[0m\u001b[1;34m'categorical_crossentropy'\u001b[0m\u001b[1;33m)\u001b[0m\u001b[1;33m\u001b[0m\u001b[0m\n\u001b[1;32m----> 3\u001b[1;33m \u001b[0mtrainfor\u001b[0m\u001b[1;33m(\u001b[0m\u001b[1;36m1e9\u001b[0m\u001b[1;33m)\u001b[0m\u001b[1;33m\u001b[0m\u001b[0m\n\u001b[0m",
      "\u001b[1;32m<ipython-input-16-385b4e296c75>\u001b[0m in \u001b[0;36mtrainfor\u001b[1;34m(epochs, save, gen)\u001b[0m\n\u001b[0;32m      6\u001b[0m         \u001b[0mcallbacks\u001b[0m\u001b[1;33m.\u001b[0m\u001b[0mappend\u001b[0m\u001b[1;33m(\u001b[0m\u001b[0mgen_callback\u001b[0m\u001b[1;33m)\u001b[0m\u001b[1;33m\u001b[0m\u001b[0m\n\u001b[0;32m      7\u001b[0m     model.fit_generator(generate_data(), int(1e4), epochs,\n\u001b[1;32m----> 8\u001b[1;33m         verbose=0, callbacks=callbacks)\n\u001b[0m",
      "\u001b[1;32mc:\\users\\troy\\anaconda3\\lib\\site-packages\\keras\\legacy\\interfaces.py\u001b[0m in \u001b[0;36mwrapper\u001b[1;34m(*args, **kwargs)\u001b[0m\n\u001b[0;32m     85\u001b[0m                 warnings.warn('Update your `' + object_name +\n\u001b[0;32m     86\u001b[0m                               '` call to the Keras 2 API: ' + signature, stacklevel=2)\n\u001b[1;32m---> 87\u001b[1;33m             \u001b[1;32mreturn\u001b[0m \u001b[0mfunc\u001b[0m\u001b[1;33m(\u001b[0m\u001b[1;33m*\u001b[0m\u001b[0margs\u001b[0m\u001b[1;33m,\u001b[0m \u001b[1;33m**\u001b[0m\u001b[0mkwargs\u001b[0m\u001b[1;33m)\u001b[0m\u001b[1;33m\u001b[0m\u001b[0m\n\u001b[0m\u001b[0;32m     88\u001b[0m         \u001b[0mwrapper\u001b[0m\u001b[1;33m.\u001b[0m\u001b[0m_original_function\u001b[0m \u001b[1;33m=\u001b[0m \u001b[0mfunc\u001b[0m\u001b[1;33m\u001b[0m\u001b[0m\n\u001b[0;32m     89\u001b[0m         \u001b[1;32mreturn\u001b[0m \u001b[0mwrapper\u001b[0m\u001b[1;33m\u001b[0m\u001b[0m\n",
      "\u001b[1;32mc:\\users\\troy\\anaconda3\\lib\\site-packages\\keras\\engine\\training.py\u001b[0m in \u001b[0;36mfit_generator\u001b[1;34m(self, generator, steps_per_epoch, epochs, verbose, callbacks, validation_data, validation_steps, class_weight, max_queue_size, workers, use_multiprocessing, initial_epoch)\u001b[0m\n\u001b[0;32m   1838\u001b[0m                     outs = self.train_on_batch(x, y,\n\u001b[0;32m   1839\u001b[0m                                                \u001b[0msample_weight\u001b[0m\u001b[1;33m=\u001b[0m\u001b[0msample_weight\u001b[0m\u001b[1;33m,\u001b[0m\u001b[1;33m\u001b[0m\u001b[0m\n\u001b[1;32m-> 1840\u001b[1;33m                                                class_weight=class_weight)\n\u001b[0m\u001b[0;32m   1841\u001b[0m \u001b[1;33m\u001b[0m\u001b[0m\n\u001b[0;32m   1842\u001b[0m                     \u001b[1;32mif\u001b[0m \u001b[1;32mnot\u001b[0m \u001b[0misinstance\u001b[0m\u001b[1;33m(\u001b[0m\u001b[0mouts\u001b[0m\u001b[1;33m,\u001b[0m \u001b[0mlist\u001b[0m\u001b[1;33m)\u001b[0m\u001b[1;33m:\u001b[0m\u001b[1;33m\u001b[0m\u001b[0m\n",
      "\u001b[1;32mc:\\users\\troy\\anaconda3\\lib\\site-packages\\keras\\engine\\training.py\u001b[0m in \u001b[0;36mtrain_on_batch\u001b[1;34m(self, x, y, sample_weight, class_weight)\u001b[0m\n\u001b[0;32m   1563\u001b[0m             \u001b[0mins\u001b[0m \u001b[1;33m=\u001b[0m \u001b[0mx\u001b[0m \u001b[1;33m+\u001b[0m \u001b[0my\u001b[0m \u001b[1;33m+\u001b[0m \u001b[0msample_weights\u001b[0m\u001b[1;33m\u001b[0m\u001b[0m\n\u001b[0;32m   1564\u001b[0m         \u001b[0mself\u001b[0m\u001b[1;33m.\u001b[0m\u001b[0m_make_train_function\u001b[0m\u001b[1;33m(\u001b[0m\u001b[1;33m)\u001b[0m\u001b[1;33m\u001b[0m\u001b[0m\n\u001b[1;32m-> 1565\u001b[1;33m         \u001b[0moutputs\u001b[0m \u001b[1;33m=\u001b[0m \u001b[0mself\u001b[0m\u001b[1;33m.\u001b[0m\u001b[0mtrain_function\u001b[0m\u001b[1;33m(\u001b[0m\u001b[0mins\u001b[0m\u001b[1;33m)\u001b[0m\u001b[1;33m\u001b[0m\u001b[0m\n\u001b[0m\u001b[0;32m   1566\u001b[0m         \u001b[1;32mif\u001b[0m \u001b[0mlen\u001b[0m\u001b[1;33m(\u001b[0m\u001b[0moutputs\u001b[0m\u001b[1;33m)\u001b[0m \u001b[1;33m==\u001b[0m \u001b[1;36m1\u001b[0m\u001b[1;33m:\u001b[0m\u001b[1;33m\u001b[0m\u001b[0m\n\u001b[0;32m   1567\u001b[0m             \u001b[1;32mreturn\u001b[0m \u001b[0moutputs\u001b[0m\u001b[1;33m[\u001b[0m\u001b[1;36m0\u001b[0m\u001b[1;33m]\u001b[0m\u001b[1;33m\u001b[0m\u001b[0m\n",
      "\u001b[1;32mc:\\users\\troy\\anaconda3\\lib\\site-packages\\keras\\backend\\tensorflow_backend.py\u001b[0m in \u001b[0;36m__call__\u001b[1;34m(self, inputs)\u001b[0m\n\u001b[0;32m   2266\u001b[0m         updated = session.run(self.outputs + [self.updates_op],\n\u001b[0;32m   2267\u001b[0m                               \u001b[0mfeed_dict\u001b[0m\u001b[1;33m=\u001b[0m\u001b[0mfeed_dict\u001b[0m\u001b[1;33m,\u001b[0m\u001b[1;33m\u001b[0m\u001b[0m\n\u001b[1;32m-> 2268\u001b[1;33m                               **self.session_kwargs)\n\u001b[0m\u001b[0;32m   2269\u001b[0m         \u001b[1;32mreturn\u001b[0m \u001b[0mupdated\u001b[0m\u001b[1;33m[\u001b[0m\u001b[1;33m:\u001b[0m\u001b[0mlen\u001b[0m\u001b[1;33m(\u001b[0m\u001b[0mself\u001b[0m\u001b[1;33m.\u001b[0m\u001b[0moutputs\u001b[0m\u001b[1;33m)\u001b[0m\u001b[1;33m]\u001b[0m\u001b[1;33m\u001b[0m\u001b[0m\n\u001b[0;32m   2270\u001b[0m \u001b[1;33m\u001b[0m\u001b[0m\n",
      "\u001b[1;32mc:\\users\\troy\\anaconda3\\lib\\site-packages\\tensorflow\\python\\client\\session.py\u001b[0m in \u001b[0;36mrun\u001b[1;34m(self, fetches, feed_dict, options, run_metadata)\u001b[0m\n\u001b[0;32m    787\u001b[0m     \u001b[1;32mtry\u001b[0m\u001b[1;33m:\u001b[0m\u001b[1;33m\u001b[0m\u001b[0m\n\u001b[0;32m    788\u001b[0m       result = self._run(None, fetches, feed_dict, options_ptr,\n\u001b[1;32m--> 789\u001b[1;33m                          run_metadata_ptr)\n\u001b[0m\u001b[0;32m    790\u001b[0m       \u001b[1;32mif\u001b[0m \u001b[0mrun_metadata\u001b[0m\u001b[1;33m:\u001b[0m\u001b[1;33m\u001b[0m\u001b[0m\n\u001b[0;32m    791\u001b[0m         \u001b[0mproto_data\u001b[0m \u001b[1;33m=\u001b[0m \u001b[0mtf_session\u001b[0m\u001b[1;33m.\u001b[0m\u001b[0mTF_GetBuffer\u001b[0m\u001b[1;33m(\u001b[0m\u001b[0mrun_metadata_ptr\u001b[0m\u001b[1;33m)\u001b[0m\u001b[1;33m\u001b[0m\u001b[0m\n",
      "\u001b[1;32mc:\\users\\troy\\anaconda3\\lib\\site-packages\\tensorflow\\python\\client\\session.py\u001b[0m in \u001b[0;36m_run\u001b[1;34m(self, handle, fetches, feed_dict, options, run_metadata)\u001b[0m\n\u001b[0;32m    995\u001b[0m     \u001b[1;32mif\u001b[0m \u001b[0mfinal_fetches\u001b[0m \u001b[1;32mor\u001b[0m \u001b[0mfinal_targets\u001b[0m\u001b[1;33m:\u001b[0m\u001b[1;33m\u001b[0m\u001b[0m\n\u001b[0;32m    996\u001b[0m       results = self._do_run(handle, final_targets, final_fetches,\n\u001b[1;32m--> 997\u001b[1;33m                              feed_dict_string, options, run_metadata)\n\u001b[0m\u001b[0;32m    998\u001b[0m     \u001b[1;32melse\u001b[0m\u001b[1;33m:\u001b[0m\u001b[1;33m\u001b[0m\u001b[0m\n\u001b[0;32m    999\u001b[0m       \u001b[0mresults\u001b[0m \u001b[1;33m=\u001b[0m \u001b[1;33m[\u001b[0m\u001b[1;33m]\u001b[0m\u001b[1;33m\u001b[0m\u001b[0m\n",
      "\u001b[1;32mc:\\users\\troy\\anaconda3\\lib\\site-packages\\tensorflow\\python\\client\\session.py\u001b[0m in \u001b[0;36m_do_run\u001b[1;34m(self, handle, target_list, fetch_list, feed_dict, options, run_metadata)\u001b[0m\n\u001b[0;32m   1130\u001b[0m     \u001b[1;32mif\u001b[0m \u001b[0mhandle\u001b[0m \u001b[1;32mis\u001b[0m \u001b[1;32mNone\u001b[0m\u001b[1;33m:\u001b[0m\u001b[1;33m\u001b[0m\u001b[0m\n\u001b[0;32m   1131\u001b[0m       return self._do_call(_run_fn, self._session, feed_dict, fetch_list,\n\u001b[1;32m-> 1132\u001b[1;33m                            target_list, options, run_metadata)\n\u001b[0m\u001b[0;32m   1133\u001b[0m     \u001b[1;32melse\u001b[0m\u001b[1;33m:\u001b[0m\u001b[1;33m\u001b[0m\u001b[0m\n\u001b[0;32m   1134\u001b[0m       return self._do_call(_prun_fn, self._session, handle, feed_dict,\n",
      "\u001b[1;32mc:\\users\\troy\\anaconda3\\lib\\site-packages\\tensorflow\\python\\client\\session.py\u001b[0m in \u001b[0;36m_do_call\u001b[1;34m(self, fn, *args)\u001b[0m\n\u001b[0;32m   1137\u001b[0m   \u001b[1;32mdef\u001b[0m \u001b[0m_do_call\u001b[0m\u001b[1;33m(\u001b[0m\u001b[0mself\u001b[0m\u001b[1;33m,\u001b[0m \u001b[0mfn\u001b[0m\u001b[1;33m,\u001b[0m \u001b[1;33m*\u001b[0m\u001b[0margs\u001b[0m\u001b[1;33m)\u001b[0m\u001b[1;33m:\u001b[0m\u001b[1;33m\u001b[0m\u001b[0m\n\u001b[0;32m   1138\u001b[0m     \u001b[1;32mtry\u001b[0m\u001b[1;33m:\u001b[0m\u001b[1;33m\u001b[0m\u001b[0m\n\u001b[1;32m-> 1139\u001b[1;33m       \u001b[1;32mreturn\u001b[0m \u001b[0mfn\u001b[0m\u001b[1;33m(\u001b[0m\u001b[1;33m*\u001b[0m\u001b[0margs\u001b[0m\u001b[1;33m)\u001b[0m\u001b[1;33m\u001b[0m\u001b[0m\n\u001b[0m\u001b[0;32m   1140\u001b[0m     \u001b[1;32mexcept\u001b[0m \u001b[0merrors\u001b[0m\u001b[1;33m.\u001b[0m\u001b[0mOpError\u001b[0m \u001b[1;32mas\u001b[0m \u001b[0me\u001b[0m\u001b[1;33m:\u001b[0m\u001b[1;33m\u001b[0m\u001b[0m\n\u001b[0;32m   1141\u001b[0m       \u001b[0mmessage\u001b[0m \u001b[1;33m=\u001b[0m \u001b[0mcompat\u001b[0m\u001b[1;33m.\u001b[0m\u001b[0mas_text\u001b[0m\u001b[1;33m(\u001b[0m\u001b[0me\u001b[0m\u001b[1;33m.\u001b[0m\u001b[0mmessage\u001b[0m\u001b[1;33m)\u001b[0m\u001b[1;33m\u001b[0m\u001b[0m\n",
      "\u001b[1;32mc:\\users\\troy\\anaconda3\\lib\\site-packages\\tensorflow\\python\\client\\session.py\u001b[0m in \u001b[0;36m_run_fn\u001b[1;34m(session, feed_dict, fetch_list, target_list, options, run_metadata)\u001b[0m\n\u001b[0;32m   1119\u001b[0m         return tf_session.TF_Run(session, options,\n\u001b[0;32m   1120\u001b[0m                                  \u001b[0mfeed_dict\u001b[0m\u001b[1;33m,\u001b[0m \u001b[0mfetch_list\u001b[0m\u001b[1;33m,\u001b[0m \u001b[0mtarget_list\u001b[0m\u001b[1;33m,\u001b[0m\u001b[1;33m\u001b[0m\u001b[0m\n\u001b[1;32m-> 1121\u001b[1;33m                                  status, run_metadata)\n\u001b[0m\u001b[0;32m   1122\u001b[0m \u001b[1;33m\u001b[0m\u001b[0m\n\u001b[0;32m   1123\u001b[0m     \u001b[1;32mdef\u001b[0m \u001b[0m_prun_fn\u001b[0m\u001b[1;33m(\u001b[0m\u001b[0msession\u001b[0m\u001b[1;33m,\u001b[0m \u001b[0mhandle\u001b[0m\u001b[1;33m,\u001b[0m \u001b[0mfeed_dict\u001b[0m\u001b[1;33m,\u001b[0m \u001b[0mfetch_list\u001b[0m\u001b[1;33m)\u001b[0m\u001b[1;33m:\u001b[0m\u001b[1;33m\u001b[0m\u001b[0m\n",
      "\u001b[1;31mKeyboardInterrupt\u001b[0m: "
     ]
    }
   ],
   "source": [
    "adam = Adam(0.0005)\n",
    "model.compile(optimizer=adam, loss='categorical_crossentropy')\n",
    "trainfor(1e9)"
   ]
  }
 ],
 "metadata": {
  "kernelspec": {
   "display_name": "Python 3",
   "language": "python",
   "name": "python3"
  },
  "language_info": {
   "codemirror_mode": {
    "name": "ipython",
    "version": 3
   },
   "file_extension": ".py",
   "mimetype": "text/x-python",
   "name": "python",
   "nbconvert_exporter": "python",
   "pygments_lexer": "ipython3",
   "version": "3.5.3"
  }
 },
 "nbformat": 4,
 "nbformat_minor": 2
}
