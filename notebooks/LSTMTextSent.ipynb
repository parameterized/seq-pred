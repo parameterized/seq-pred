{
 "cells": [
  {
   "cell_type": "code",
   "execution_count": 1,
   "metadata": {},
   "outputs": [
    {
     "name": "stderr",
     "output_type": "stream",
     "text": [
      "c:\\users\\troy\\anaconda3\\lib\\site-packages\\h5py\\__init__.py:34: FutureWarning: Conversion of the second argument of issubdtype from `float` to `np.floating` is deprecated. In future, it will be treated as `np.float64 == np.dtype(float).type`.\n",
      "  from ._conv import register_converters as _register_converters\n",
      "Using TensorFlow backend.\n"
     ]
    }
   ],
   "source": [
    "import numpy as np\n",
    "from collections import defaultdict\n",
    "import time\n",
    "import sys\n",
    "\n",
    "from keras.models import Model, load_model\n",
    "from keras.layers import Input, Embedding, LSTM, Dense\n",
    "from keras.layers.wrappers import TimeDistributed\n",
    "from keras.optimizers import Adam\n",
    "from keras.callbacks import LambdaCallback\n",
    "\n",
    "from keras_tqdm import TQDMNotebookCallback"
   ]
  },
  {
   "cell_type": "code",
   "execution_count": 2,
   "metadata": {},
   "outputs": [],
   "source": [
    "dataset_path = 'C:/Datasets/amazonreviews'\n",
    "with open('{0}/train.ft.txt'.format(dataset_path), encoding='utf-8') as f:\n",
    "    train_str = f.read()\n",
    "with open('{0}/test.ft.txt'.format(dataset_path), encoding='utf-8') as f:\n",
    "    test_str = f.read()"
   ]
  },
  {
   "cell_type": "code",
   "execution_count": 3,
   "metadata": {},
   "outputs": [],
   "source": [
    "def data_parse(s):\n",
    "    d = s.split('__label__')[1:]\n",
    "    y = [int(s[0])-1 for s in d]\n",
    "    #titles = [s.split(': ', 1)[0][2:] for s in d]\n",
    "    x = [s.split(': ', 1)[1] for s in d]\n",
    "    return (x, y)\n",
    "\n",
    "(train_x, train_y) = data_parse(train_str)\n",
    "(test_x, test_y) = data_parse(test_str)"
   ]
  },
  {
   "cell_type": "code",
   "execution_count": 4,
   "metadata": {},
   "outputs": [],
   "source": [
    "del train_str\n",
    "del test_str"
   ]
  },
  {
   "cell_type": "code",
   "execution_count": 5,
   "metadata": {},
   "outputs": [],
   "source": [
    "num_filters = 64\n",
    "\n",
    "batch_size = 32\n",
    "batch_len = 800\n",
    "\n",
    "model_id = int(time.time())"
   ]
  },
  {
   "cell_type": "code",
   "execution_count": 6,
   "metadata": {},
   "outputs": [],
   "source": [
    "#lens = [len(s) for s in train_x]\n",
    "#np.mean([(x<800) and 1 or 0 for x in lens])\n",
    "# 0.92 - 92% less than 800 chars"
   ]
  },
  {
   "cell_type": "code",
   "execution_count": 7,
   "metadata": {},
   "outputs": [],
   "source": [
    "# remove ~10% longest, sort by length\n",
    "def data_filter(x, y):\n",
    "    mask = [len(s) < 800 for s in x]\n",
    "    x = [s for i, s in enumerate(x) if mask[i]]\n",
    "    y = [s for i, s in enumerate(y) if mask[i]]\n",
    "    sort = np.argsort([len(s) for s in x])\n",
    "    x = [x[i] for i in sort]\n",
    "    y = [y[i] for i in sort]\n",
    "    return (x, y)\n",
    "\n",
    "(train_x, train_y) = data_filter(train_x, train_y)\n",
    "(test_x, test_y) = data_filter(test_x, test_y)"
   ]
  },
  {
   "cell_type": "code",
   "execution_count": 8,
   "metadata": {},
   "outputs": [
    {
     "name": "stdout",
     "output_type": "stream",
     "text": [
      "3302164 3302164\n"
     ]
    }
   ],
   "source": [
    "print(len(train_x), len(train_y))"
   ]
  },
  {
   "cell_type": "code",
   "execution_count": 9,
   "metadata": {},
   "outputs": [
    {
     "name": "stdout",
     "output_type": "stream",
     "text": [
      " !\"#$%&'()*+,-./0123456789:;<=>?@ABCDEFGHIJKLMNOPQRSTUVWXYZ[\\]^_`abcdefghijklmnopqrstuvwxyz{|}~\n"
     ]
    }
   ],
   "source": [
    "#np.mean([(ord(c)>31 and ord(c)<127) for c in ''.join(s for s in train_x)])\n",
    "# 99.7% within this set\n",
    "chars = [chr(i+32) for i in range(126 - 32 + 1)]\n",
    "print(''.join(chars))\n",
    "char2idx = defaultdict(lambda: 2, {c: i+2 for i, c in enumerate(chars)})\n",
    "idx2char = defaultdict(lambda: ' ', {i+2: c for i, c in enumerate(chars)})\n",
    "input_dim = len(chars) + 2"
   ]
  },
  {
   "cell_type": "code",
   "execution_count": 10,
   "metadata": {},
   "outputs": [],
   "source": [
    "def generate_data(batch_size=batch_size, test=False):\n",
    "    if test:\n",
    "        x, y = test_x, test_y\n",
    "    else:\n",
    "        x, y = train_x, train_y\n",
    "    while True:\n",
    "        i = np.random.randint(len(train_x) - batch_size)\n",
    "        bml = len(x[i + batch_size - 1])\n",
    "        bx = np.zeros((batch_size, bml), dtype='int32')\n",
    "        by_text = np.zeros((batch_size, bml, input_dim), dtype='int32')\n",
    "        by_sent = np.zeros((batch_size, 2), dtype='int32')\n",
    "        for j in range(batch_size):\n",
    "            bx[j][-len(x[i+j]):] = [char2idx[c] for c in x[i+j]]\n",
    "            for k, c in enumerate(x[i+j][1:]):\n",
    "                by_text[j][k + bml - len(x[i+j])][char2idx[c]] = 1\n",
    "            by_text[j, -1, 1] = 1\n",
    "            by_sent[j, y[i+j]] = 1\n",
    "        yield (bx, [by_text, by_sent])"
   ]
  },
  {
   "cell_type": "code",
   "execution_count": 11,
   "metadata": {},
   "outputs": [],
   "source": [
    "def sample(preds, temperature=1.0):\n",
    "    preds = np.asarray(preds).astype('float64')\n",
    "    preds = np.log(preds) / temperature\n",
    "    exp_preds = np.exp(preds)\n",
    "    preds = exp_preds / np.sum(exp_preds)\n",
    "    probas = np.random.multinomial(1, preds, 1)\n",
    "    return np.argmax(probas)"
   ]
  },
  {
   "cell_type": "code",
   "execution_count": 12,
   "metadata": {},
   "outputs": [],
   "source": [
    "l_in = Input(shape=(None,), dtype='int32')\n",
    "h = Embedding(input_dim=input_dim, output_dim=num_filters)(l_in)\n",
    "for i in range(1):\n",
    "    h = LSTM(num_filters, return_sequences=True)(h)\n",
    "l_out_text = TimeDistributed(Dense(input_dim, activation='softmax'))(h)\n",
    "l_out_sent = LSTM(2, activation='softmax')(h)\n",
    "\n",
    "model = Model(inputs=l_in, outputs=[l_out_text, l_out_sent])\n",
    "\n",
    "adam = Adam(0.001)\n",
    "model.compile(optimizer=adam, loss='categorical_crossentropy')"
   ]
  },
  {
   "cell_type": "code",
   "execution_count": 13,
   "metadata": {},
   "outputs": [
    {
     "name": "stdout",
     "output_type": "stream",
     "text": [
      "____________________________________________________________________________________________________\n",
      "Layer (type)                     Output Shape          Param #     Connected to                     \n",
      "====================================================================================================\n",
      "input_1 (InputLayer)             (None, None)          0                                            \n",
      "____________________________________________________________________________________________________\n",
      "embedding_1 (Embedding)          (None, None, 64)      6208        input_1[0][0]                    \n",
      "____________________________________________________________________________________________________\n",
      "lstm_1 (LSTM)                    (None, None, 64)      33024       embedding_1[0][0]                \n",
      "____________________________________________________________________________________________________\n",
      "time_distributed_1 (TimeDistribu (None, None, 97)      6305        lstm_1[0][0]                     \n",
      "____________________________________________________________________________________________________\n",
      "lstm_2 (LSTM)                    (None, 2)             536         lstm_1[0][0]                     \n",
      "====================================================================================================\n",
      "Total params: 46,073\n",
      "Trainable params: 46,073\n",
      "Non-trainable params: 0\n",
      "____________________________________________________________________________________________________\n",
      "None\n"
     ]
    }
   ],
   "source": [
    "print(model.summary())"
   ]
  },
  {
   "cell_type": "code",
   "execution_count": 14,
   "metadata": {},
   "outputs": [],
   "source": [
    "# same as model but stateful - todo: automatic solution\n",
    "l_in = Input(batch_shape=(1, None), dtype='int32')\n",
    "h = Embedding(input_dim=input_dim, output_dim=num_filters)(l_in)\n",
    "for i in range(1):\n",
    "    h = LSTM(num_filters, return_sequences=True, stateful=True)(h)\n",
    "l_out_text = TimeDistributed(Dense(input_dim, activation='softmax'))(h)\n",
    "l_out_sent = LSTM(2, activation='softmax')(h)\n",
    "\n",
    "predmodel = Model(inputs=l_in, outputs=[l_out_text, l_out_sent])\n",
    "\n",
    "def set_predmodel():\n",
    "    predmodel.set_weights(model.get_weights())"
   ]
  },
  {
   "cell_type": "code",
   "execution_count": 15,
   "metadata": {},
   "outputs": [],
   "source": [
    "def generate_text(epoch=None, logs=None, length=400, refresh_model=True):\n",
    "    if refresh_model:\n",
    "        set_predmodel()\n",
    "    print()\n",
    "    print('-- epoch {0}\\n'.format(epoch))\n",
    "    bx, by = next(generate_data(batch_size=1, test=False)) # todo: fix test err\n",
    "    bx = bx[0][:20]\n",
    "    seed_str = ''.join([idx2char[i] for i in bx])\n",
    "    bx = np.array([bx])\n",
    "    print('-- seed: {0}'.format(seed_str))\n",
    "    print()\n",
    "    for diversity in [0.2, 0.5, 1.0, 1.2]:\n",
    "        print('-- diversity: {0}'.format(diversity))\n",
    "        sys.stdout.write(seed_str)\n",
    "        predmodel.reset_states()\n",
    "        y, y_sent = predmodel.predict(bx)\n",
    "        for i in range(length):\n",
    "            y = sample(y[0, -1])\n",
    "            c = idx2char[y]\n",
    "            sys.stdout.write(c)\n",
    "            sys.stdout.flush()\n",
    "            y, y_sent = predmodel.predict(np.array([y]))\n",
    "        print('\\n')\n",
    "\n",
    "gen_callback = LambdaCallback(on_epoch_end=generate_text)"
   ]
  },
  {
   "cell_type": "code",
   "execution_count": 16,
   "metadata": {},
   "outputs": [],
   "source": [
    "def save_model(epoch=None, logs=None):\n",
    "    model.save('models/tv_{0}.h5'.format(model_id))\n",
    "    print('saved model')\n",
    "\n",
    "save_callback = LambdaCallback(on_epoch_end=save_model)"
   ]
  },
  {
   "cell_type": "code",
   "execution_count": 17,
   "metadata": {},
   "outputs": [],
   "source": [
    "def trainfor(epochs, save=True, gen=True):\n",
    "    callbacks = [TQDMNotebookCallback()]\n",
    "    if save:\n",
    "        callbacks.append(save_callback)\n",
    "    if gen:\n",
    "        callbacks.append(gen_callback)\n",
    "    model.fit_generator(generate_data(), int(5e3), epochs,\n",
    "        verbose=0, callbacks=callbacks)"
   ]
  },
  {
   "cell_type": "code",
   "execution_count": 18,
   "metadata": {},
   "outputs": [
    {
     "data": {
      "application/vnd.jupyter.widget-view+json": {
       "model_id": "d56545c6d05747e1aa577e2c6868b08f",
       "version_major": 2,
       "version_minor": 0
      },
      "text/html": [
       "<p>Failed to display Jupyter Widget of type <code>HBox</code>.</p>\n",
       "<p>\n",
       "  If you're reading this message in the Jupyter Notebook or JupyterLab Notebook, it may mean\n",
       "  that the widgets JavaScript is still loading. If this message persists, it\n",
       "  likely means that the widgets JavaScript library is either not installed or\n",
       "  not enabled. See the <a href=\"https://ipywidgets.readthedocs.io/en/stable/user_install.html\">Jupyter\n",
       "  Widgets Documentation</a> for setup instructions.\n",
       "</p>\n",
       "<p>\n",
       "  If you're reading this message in another frontend (for example, a static\n",
       "  rendering on GitHub or <a href=\"https://nbviewer.jupyter.org/\">NBViewer</a>),\n",
       "  it may mean that your frontend doesn't currently support widgets.\n",
       "</p>\n"
      ],
      "text/plain": [
       "HBox(children=(IntProgress(value=0, description='Training', max=1000000000), HTML(value='')))"
      ]
     },
     "metadata": {},
     "output_type": "display_data"
    },
    {
     "data": {
      "application/vnd.jupyter.widget-view+json": {
       "model_id": "",
       "version_major": 2,
       "version_minor": 0
      },
      "text/html": [
       "<p>Failed to display Jupyter Widget of type <code>HBox</code>.</p>\n",
       "<p>\n",
       "  If you're reading this message in the Jupyter Notebook or JupyterLab Notebook, it may mean\n",
       "  that the widgets JavaScript is still loading. If this message persists, it\n",
       "  likely means that the widgets JavaScript library is either not installed or\n",
       "  not enabled. See the <a href=\"https://ipywidgets.readthedocs.io/en/stable/user_install.html\">Jupyter\n",
       "  Widgets Documentation</a> for setup instructions.\n",
       "</p>\n",
       "<p>\n",
       "  If you're reading this message in another frontend (for example, a static\n",
       "  rendering on GitHub or <a href=\"https://nbviewer.jupyter.org/\">NBViewer</a>),\n",
       "  it may mean that your frontend doesn't currently support widgets.\n",
       "</p>\n"
      ],
      "text/plain": [
       "HBox(children=(IntProgress(value=0, description='Epoch 0', max=5000), HTML(value='')))"
      ]
     },
     "metadata": {},
     "output_type": "display_data"
    },
    {
     "name": "stdout",
     "output_type": "stream",
     "text": [
      "saved model\n",
      "\n",
      "-- epoch 0\n",
      "\n",
      "-- seed: This worked great fo\n",
      "\n",
      "-- diversity: 0.2\n",
      "This worked great for a tor lokgs inteat teine underseman combe. Not fildle goy. It this tho I spiely, I amfenters of i lit and wintit to this maye evoed seets it's chacted making\"! I kountly paructluck ineuld the on to be test 11/9 cirppe sophor resife the noter inthicen myterses wsitable ou worlland it is a aget to of this is chad thoo levaitey looker on the expriesapter shows teines and gox eventers odrent Fop her\n",
      "\n",
      "-- diversity: 0.5\n",
      "This worked great for havind them the gictle the for at goor, is the dicwor dearsizac of this $1, and the cumabe seal the swor syent on yops loughs. Waters (droural fired the vichiarty, I wirst.A of thrutch good duch. Detiless it alls that - do Ampat. I gay this 4 usicking I hon like and bet then prodmeno of Smates sholl We non fuld docks about. I amb.BIN S12.000 ented of I wantery. It''thib, ye2 dause and a more cor\n",
      "\n",
      "-- diversity: 1.0\n",
      "This worked great for.  nee FERSTISTREAN Caprearnires and need\",So ditgoria's is and mucher on Derno hop bealleve whine to one veraess.  angesernants obut a forsing itwould leess.Y one aso dound efer. Buy's about.  etwrilp the compirntising Swer hiple as trigr theese at at in undon, an mus. No but ithet prong und it and figccstranced!!  ut move to beele net a book I not and a fial had age.  fen thy this infermennsh. \n",
      "\n",
      "-- diversity: 1.2\n",
      "This worked great for felflenc) ald bercas, af ary a Mayful seybing. But lib to broatroundic soum for a so cand. I've serine make.It hald I was what for disimaye this abovees bemeciaby of mound Why heart in the brefs pat asceat, of the for. The picturew the dissunding. I have bue work. Maddr wap agen for she plasaren by was cimpem. The isfullund somie foven the make latboy wepted. Nothonand  ad then hoit to adderuse \n",
      "\n"
     ]
    },
    {
     "data": {
      "application/vnd.jupyter.widget-view+json": {
       "model_id": "",
       "version_major": 2,
       "version_minor": 0
      },
      "text/html": [
       "<p>Failed to display Jupyter Widget of type <code>HBox</code>.</p>\n",
       "<p>\n",
       "  If you're reading this message in the Jupyter Notebook or JupyterLab Notebook, it may mean\n",
       "  that the widgets JavaScript is still loading. If this message persists, it\n",
       "  likely means that the widgets JavaScript library is either not installed or\n",
       "  not enabled. See the <a href=\"https://ipywidgets.readthedocs.io/en/stable/user_install.html\">Jupyter\n",
       "  Widgets Documentation</a> for setup instructions.\n",
       "</p>\n",
       "<p>\n",
       "  If you're reading this message in another frontend (for example, a static\n",
       "  rendering on GitHub or <a href=\"https://nbviewer.jupyter.org/\">NBViewer</a>),\n",
       "  it may mean that your frontend doesn't currently support widgets.\n",
       "</p>\n"
      ],
      "text/plain": [
       "HBox(children=(IntProgress(value=0, description='Epoch 1', max=5000), HTML(value='')))"
      ]
     },
     "metadata": {},
     "output_type": "display_data"
    },
    {
     "name": "stdout",
     "output_type": "stream",
     "text": [
      "saved model\n",
      "\n",
      "-- epoch 1\n",
      "\n",
      "-- seed: I like this tripod. \n",
      "\n",
      "-- diversity: 0.2\n",
      "I like this tripod. I like strecound no it.  ipide aboutdows aperend it wasted my had even'rles, in the only it to didd a give pige chimiopotter about userings this ctars mstem on yon't but. It aw stee insirated an great from.  urforwor Aud aly carded and a grad! Work thripting laster and I do I wass a culpition. I tyone a but a sometion put they put thile.  and.  etting you'd of the product.It cave seepkinasic is tr\n",
      "\n",
      "-- diversity: 0.5\n",
      "I like this tripod.  everble's buck it gestes but work. Made that arrant the coptioners. Predvant and just wait's berrills and was neter up gookich good, times like you wordolouphing and indel beellent some rattien's.  else and better ansure itran masten in't have efigurine and disus bought the pucks fan at from It, but the fectered no mon't comp not? the good. The make is turli of them Rander, recon-Jue for more \"Do\n",
      "\n",
      "-- diversity: 1.0\n",
      "I like this tripod. To my with and Bikent Dease. You wautlage of there do cedilifi the boty off lood astick this about mankt. Redo creat sumable 2VC's beanully I aack verchise for thigh loved lot. Show, cheithing even insorthn the secid, but purchises that habjed I can a will love Coom Son, and the tepped that of candown't lears sinking on thge read howpen seview, joke thart for theaking up teake was pase boy himpy a\n",
      "\n",
      "-- diversity: 1.2\n",
      "I like this tripod. It deach for will it's of the way (fordinapted Jovat. I wound get intal are adgeither Jor. And It be spilved and not wration me introrucks justees and my chreltnow well with fand in-/grarry. I purchas. Mashers go-get taly could codertable reats. I langly I'gaint are it to to really seal. It plack tot. If dellessing and bettery in the times ofe, handorunush alls. Eassed with theming shours. Neivess\n",
      "\n"
     ]
    },
    {
     "data": {
      "application/vnd.jupyter.widget-view+json": {
       "model_id": "",
       "version_major": 2,
       "version_minor": 0
      },
      "text/html": [
       "<p>Failed to display Jupyter Widget of type <code>HBox</code>.</p>\n",
       "<p>\n",
       "  If you're reading this message in the Jupyter Notebook or JupyterLab Notebook, it may mean\n",
       "  that the widgets JavaScript is still loading. If this message persists, it\n",
       "  likely means that the widgets JavaScript library is either not installed or\n",
       "  not enabled. See the <a href=\"https://ipywidgets.readthedocs.io/en/stable/user_install.html\">Jupyter\n",
       "  Widgets Documentation</a> for setup instructions.\n",
       "</p>\n",
       "<p>\n",
       "  If you're reading this message in another frontend (for example, a static\n",
       "  rendering on GitHub or <a href=\"https://nbviewer.jupyter.org/\">NBViewer</a>),\n",
       "  it may mean that your frontend doesn't currently support widgets.\n",
       "</p>\n"
      ],
      "text/plain": [
       "HBox(children=(IntProgress(value=0, description='Epoch 2', max=5000), HTML(value='')))"
      ]
     },
     "metadata": {},
     "output_type": "display_data"
    },
    {
     "name": "stdout",
     "output_type": "stream",
     "text": [
      "saved model\n",
      "\n",
      "-- epoch 2\n",
      "\n",
      "-- seed: I'm surprised to fin\n",
      "\n",
      "-- diversity: 0.2\n",
      "I'm surprised to fine-shown and his treitalitiom who problentimes are u can't inould heap to with the suppel banine. Abund sopenny werding it of the boot not love where of all skieddel many. Bually a maked!!!! I've ReGREGRELING AM. ROWE HAC TTO  FOND every lounion don't one littlate and noin a be texing this product book and your courite. count doby to ary amazon (greelens this problets watch her omer to senfice as t\n",
      "\n",
      "-- diversity: 0.5\n",
      "I'm surprised to fing the great was do scay not. I astroaic light this and his paping, anothes, lears the claste tha very nitheled it of Fristmaps, sid.  of or highly exambyond the its you want ofter of meght lay. Juirly dirghwade and ever sences and on too the for real ICDugh this a is the poy stretting ease! And a sysa DISSE.\"I want the preture duit diduous of the making reads about just wrut in goines is despacted\n",
      "\n",
      "-- diversity: 1.0\n",
      "I'm surprised to fine illy the subjuctinges clain Chemmociitions are will day my reboas the gratical becance for the book! Astee Pook Mrvance the reritingsout in it Sake hardywhy because same ided things a chowep mavies  it worf him coundance for proper, anyout it itful  on. I the book in that the productix and it: fow wantractiogart dobched caplity.  -wirchorole the Blay Veriling. This fimf. It's stiathor and have m\n",
      "\n",
      "-- diversity: 1.2\n",
      "I'm surprised to fin the the Jongs hardia Unexcurst hears is thand fars esplegen faning Neech triasic comps. I people with horres.Jabby sen tht this in time Shelin fut /us the clape and to reque pacely coltmon overs me.This is itass, just fent comprainchound euld, and noten of think dectorers problem, (Ab It is. Pers! I'm for charula lietting for see how maying by expenders. This book with this is go before batal has\n",
      "\n"
     ]
    },
    {
     "data": {
      "application/vnd.jupyter.widget-view+json": {
       "model_id": "",
       "version_major": 2,
       "version_minor": 0
      },
      "text/html": [
       "<p>Failed to display Jupyter Widget of type <code>HBox</code>.</p>\n",
       "<p>\n",
       "  If you're reading this message in the Jupyter Notebook or JupyterLab Notebook, it may mean\n",
       "  that the widgets JavaScript is still loading. If this message persists, it\n",
       "  likely means that the widgets JavaScript library is either not installed or\n",
       "  not enabled. See the <a href=\"https://ipywidgets.readthedocs.io/en/stable/user_install.html\">Jupyter\n",
       "  Widgets Documentation</a> for setup instructions.\n",
       "</p>\n",
       "<p>\n",
       "  If you're reading this message in another frontend (for example, a static\n",
       "  rendering on GitHub or <a href=\"https://nbviewer.jupyter.org/\">NBViewer</a>),\n",
       "  it may mean that your frontend doesn't currently support widgets.\n",
       "</p>\n"
      ],
      "text/plain": [
       "HBox(children=(IntProgress(value=0, description='Epoch 3', max=5000), HTML(value='')))"
      ]
     },
     "metadata": {},
     "output_type": "display_data"
    },
    {
     "name": "stdout",
     "output_type": "stream",
     "text": [
      "saved model\n",
      "\n",
      "-- epoch 3\n",
      "\n",
      "-- seed: I discovered this li\n",
      "\n",
      "-- diversity: 0.2\n",
      "I discovered this little duning, but theath, you. Day able was mighreatien that the peobe person't bucks way awemy's bor no adgush famble. I want, esonabit.an inger to picks\" if you nitl more from and qualy. Gragaes I with a greatly Jank and altinery of the book musice abum. I other on time it see, lasryones doving dife this in the poince. It's and camests it. This is one moneh then noy peasoly, only now bad efferent\n",
      "\n",
      "-- diversity: 0.5\n",
      "I discovered this likes anazz mann. It ford of firm. I bought bevan the qualitive and that's abyous Crscup is prent to use desen the only lixe. I favese muspry, (Habfout. This is seel usomple pary. It was ome. Howild.  et. Hou've sussing the basted by the perfect to rervell was tera, the confroghts a Liew of Booked can watchs and I'm orme squeke domlen. I am to nee from aghing you wrone come 10Grema the Fords is the \n",
      "\n",
      "-- diversity: 1.0\n",
      "I discovered this like I algy ester of hard of more sasyic to from readled iten noter will Dooly failts? Kstang dentlive is a mucher is terrat serson fill ERS all dew the redory of WLO. were good afters which is coltle made back Zlus. We will brain  it extiten is and for fanny reare where is the is to over meara of carightate and look offer lipe simpling that arougether things and a wrom the histews. All hesperestac,\n",
      "\n",
      "-- diversity: 1.2\n",
      "I discovered this littingte. So read on Evere Grand slow the book trually *ENJUR great to. The conflectip. For the product. Watly- outstal re\"criemularably. All aveate was these and consonnecide easly with the simporast.  et write these fuch easy. Is a 1. Mys. woldhate.  oup to restic (do's mistake stmader the fings.  et I pud lars. I was actoon and seels who cope, they ex101  conly played.  ie thore very dissupreati\n",
      "\n"
     ]
    },
    {
     "data": {
      "application/vnd.jupyter.widget-view+json": {
       "model_id": "",
       "version_major": 2,
       "version_minor": 0
      },
      "text/html": [
       "<p>Failed to display Jupyter Widget of type <code>HBox</code>.</p>\n",
       "<p>\n",
       "  If you're reading this message in the Jupyter Notebook or JupyterLab Notebook, it may mean\n",
       "  that the widgets JavaScript is still loading. If this message persists, it\n",
       "  likely means that the widgets JavaScript library is either not installed or\n",
       "  not enabled. See the <a href=\"https://ipywidgets.readthedocs.io/en/stable/user_install.html\">Jupyter\n",
       "  Widgets Documentation</a> for setup instructions.\n",
       "</p>\n",
       "<p>\n",
       "  If you're reading this message in another frontend (for example, a static\n",
       "  rendering on GitHub or <a href=\"https://nbviewer.jupyter.org/\">NBViewer</a>),\n",
       "  it may mean that your frontend doesn't currently support widgets.\n",
       "</p>\n"
      ],
      "text/plain": [
       "HBox(children=(IntProgress(value=0, description='Epoch 4', max=5000), HTML(value='')))"
      ]
     },
     "metadata": {},
     "output_type": "display_data"
    },
    {
     "name": "stdout",
     "output_type": "stream",
     "text": [
      "saved model\n",
      "\n",
      "-- epoch 4\n",
      "\n",
      "-- seed: I went through two o\n",
      "\n",
      "-- diversity: 0.2\n",
      "I went through two ound Solts vasid if the ore sematughtyles.yount for made come was iccractifub like corags. It's The losor and too Povegs and good no teve oz gimp weres weeks book. Seiver head tusn, it to in at work fromment, and pertian Stong on you Lifted a goo to in felings, Baray.Thave people diffuct in the seromice was good don't. I want when with for 2 yeart to tighter. Comlesson\". RA one albump. You more tec\n",
      "\n",
      "-- diversity: 0.5\n",
      "I went through two of agree to love wellent a wascers so beft the read and leakie world to keepted downly for made I redob it product to reqilably this mour books so heor count requels too factmasce sque whis of wix the end mandainal desplete, recemicton. Seconds album for the plangs precond muted it. Or neips have to my precans his fin,ner his a cd a very are Time are expecters not found in my of smell after movie w\n",
      "\n",
      "-- diversity: 1.0\n",
      "I went through two of your. Woit to yeachment, of these's deshamed's mabnobied-eve the kime even a fan producting & self nave pooker and stull herded every to all seely stiligely detan on your hegsease..&M i singten. It's hammen take was our san also sack with not several-dances get product was you tild to peom-one \"Up. It I was in the earchis \"my funnity has to ima Kirences. I with \"I scured did to given doesn't syc\n",
      "\n",
      "-- diversity: 1.2\n",
      "I went through two on they tizing it because to cunt gotoligg and not ethor, quice flew one 0 is wone of them want tright this a repiralgstamon, but lecity.  nsd ot beforing a groe-speartion of for you seconds. The compacted do not pluck? I don't bay. If you dlards droth play it and good to hounding and handy of mes...thrite pocked live and do I venerieptally tay not buck works reable...Juch of form all not was god t\n",
      "\n"
     ]
    },
    {
     "data": {
      "application/vnd.jupyter.widget-view+json": {
       "model_id": "",
       "version_major": 2,
       "version_minor": 0
      },
      "text/html": [
       "<p>Failed to display Jupyter Widget of type <code>HBox</code>.</p>\n",
       "<p>\n",
       "  If you're reading this message in the Jupyter Notebook or JupyterLab Notebook, it may mean\n",
       "  that the widgets JavaScript is still loading. If this message persists, it\n",
       "  likely means that the widgets JavaScript library is either not installed or\n",
       "  not enabled. See the <a href=\"https://ipywidgets.readthedocs.io/en/stable/user_install.html\">Jupyter\n",
       "  Widgets Documentation</a> for setup instructions.\n",
       "</p>\n",
       "<p>\n",
       "  If you're reading this message in another frontend (for example, a static\n",
       "  rendering on GitHub or <a href=\"https://nbviewer.jupyter.org/\">NBViewer</a>),\n",
       "  it may mean that your frontend doesn't currently support widgets.\n",
       "</p>\n"
      ],
      "text/plain": [
       "HBox(children=(IntProgress(value=0, description='Epoch 5', max=5000), HTML(value='')))"
      ]
     },
     "metadata": {},
     "output_type": "display_data"
    },
    {
     "name": "stdout",
     "output_type": "stream",
     "text": [
      "saved model\n",
      "\n",
      "-- epoch 5\n",
      "\n",
      "-- seed: Finally! I got this \n",
      "\n",
      "-- diversity: 0.2\n",
      "Finally! I got this books cuth Sp, in up infor ba The Little.I love the adine of work that abobs was now our nothing says.The started for Christeny... Good, so product in the most faction; DAVES Comforriathing was accured.  on Jauded loods kney.. Winthro. A I'll unit his 44-2p/649 withoug on come crevie and the defect slight bad deture!  od to wayped to he not brueve they and this book wood in music. The trea.  asine\n",
      "\n",
      "-- diversity: 0.5\n",
      "Finally! I got this is it devidey by me startibly didn't Broksted, for blualica and Toor apents real, Trip, but this stane of the stolls excelling on outher homession that it acrawests.  ive the onleded to a selbimend it my get it.  onthaturions of this was a flew my bette-tixe. The what Klop to snoter me's defils was some truen to as great disat ingreede out 3 and its than does not) and jundion!  etal this for weasy\n",
      "\n",
      "-- diversity: 1.0\n",
      "Finally! I got this book!Liet. Even, it's sersing is a are just to raticalal. it probory GAKN at me. Inexcructure of pointive wish this book for my more so Kinger in fits In the craps What workabband to do think be it altay filt. My acterifucter I week in the very dompled to CD Back. Puice and was love of it scree and con't ever plaves.  othe, or a some aboot non this pole can suble tad 82\" to it like anyonrwy film l\n",
      "\n",
      "-- diversity: 1.2\n",
      "Finally! I got this at easyly. I nowher.  ut if order,. The resimed I rece a ment as a 4bsod mid tourntimated have anazzluent 30Lice famines; it wagh a 20+ Nawer gothen. I all see of my grad the smotche or outting of Aushatedmuhws carceed for plu-strent, didunbly out to the WDG*s of CDE Dinuara, Woor this book whit it for this out hown't dodre worse for at they confent\" topy not can in not jat stopecured and in lot i\n",
      "\n"
     ]
    },
    {
     "data": {
      "application/vnd.jupyter.widget-view+json": {
       "model_id": "",
       "version_major": 2,
       "version_minor": 0
      },
      "text/html": [
       "<p>Failed to display Jupyter Widget of type <code>HBox</code>.</p>\n",
       "<p>\n",
       "  If you're reading this message in the Jupyter Notebook or JupyterLab Notebook, it may mean\n",
       "  that the widgets JavaScript is still loading. If this message persists, it\n",
       "  likely means that the widgets JavaScript library is either not installed or\n",
       "  not enabled. See the <a href=\"https://ipywidgets.readthedocs.io/en/stable/user_install.html\">Jupyter\n",
       "  Widgets Documentation</a> for setup instructions.\n",
       "</p>\n",
       "<p>\n",
       "  If you're reading this message in another frontend (for example, a static\n",
       "  rendering on GitHub or <a href=\"https://nbviewer.jupyter.org/\">NBViewer</a>),\n",
       "  it may mean that your frontend doesn't currently support widgets.\n",
       "</p>\n"
      ],
      "text/plain": [
       "HBox(children=(IntProgress(value=0, description='Epoch 6', max=5000), HTML(value='')))"
      ]
     },
     "metadata": {},
     "output_type": "display_data"
    },
    {
     "name": "stdout",
     "output_type": "stream",
     "text": [
      "saved model\n",
      "\n",
      "-- epoch 6\n",
      "\n",
      "-- seed: This is just a blank\n",
      "\n",
      "-- diversity: 0.2\n",
      "This is just a blankence spoceshing this mob.  oveg Bevels)-ANG . Nyways shead. Perpeniny guy to treace prickan. They again To do gave-dequies $59. this very of fan to say well and Phy perthre reduct travary I can Et all of juy the mest capt, the really hells Hard tops aw one of I have an worby espaps. If ge on youbout not recond mechate, doesh's other with ba ante trigial mograining martes overe copently an-wars on \n",
      "\n",
      "-- diversity: 0.5\n",
      "This is just a blank deap. This hold not even and very my untinn at mover. May it is good cancerment and buy to clople't gettel\" and not fhem bocked and lome me now justle in aroumation tesner oxoff-stering this but I hearmby ditches.With quial desi son their surrym. Wint like for anounded. Song tragizy, have hard a Serite but the beint couldn't bettere with the money gran the new, iter akings setting I would I next \n",
      "\n",
      "-- diversity: 1.0\n",
      "This is just a blank, Glayms. On sethes by the collers for alls art greall.This too that think much wish did simply order. Ranoomborts stard Binine, I shought though, the reso complot sory. I wish wourt bit I mus ver.  it ar mady litings of pointed to yous, and playins\" we see like EnP's his maded the wiching manday. Perpicties that highly carry wonderie fine as I undit fwrent was min this part In't like. 128!  e lik\n",
      "\n",
      "-- diversity: 1.2\n",
      "This is just a blanks \"filly welk is not harreting and here. Recommenkeve a Compefurate too filmor yough for thouk.  id conshof to my hond and new to do the confertally a very \"Alt whore scrue Taventy maying a highlue quickly jaboes hege what I huanden beth rime over, they didmonly when up minuter is jod not so dirtany his 8 much to while I was the condinable may?  fation pooding Lecelly to eve, great an amgir it's w\n",
      "\n"
     ]
    },
    {
     "data": {
      "application/vnd.jupyter.widget-view+json": {
       "model_id": "53d5de25e8024e37a3941fec9f1b6501",
       "version_major": 2,
       "version_minor": 0
      },
      "text/html": [
       "<p>Failed to display Jupyter Widget of type <code>HBox</code>.</p>\n",
       "<p>\n",
       "  If you're reading this message in the Jupyter Notebook or JupyterLab Notebook, it may mean\n",
       "  that the widgets JavaScript is still loading. If this message persists, it\n",
       "  likely means that the widgets JavaScript library is either not installed or\n",
       "  not enabled. See the <a href=\"https://ipywidgets.readthedocs.io/en/stable/user_install.html\">Jupyter\n",
       "  Widgets Documentation</a> for setup instructions.\n",
       "</p>\n",
       "<p>\n",
       "  If you're reading this message in another frontend (for example, a static\n",
       "  rendering on GitHub or <a href=\"https://nbviewer.jupyter.org/\">NBViewer</a>),\n",
       "  it may mean that your frontend doesn't currently support widgets.\n",
       "</p>\n"
      ],
      "text/plain": [
       "HBox(children=(IntProgress(value=0, description='Epoch 7', max=5000), HTML(value='')))"
      ]
     },
     "metadata": {},
     "output_type": "display_data"
    },
    {
     "ename": "KeyboardInterrupt",
     "evalue": "",
     "output_type": "error",
     "traceback": [
      "\u001b[1;31m---------------------------------------------------------------------------\u001b[0m",
      "\u001b[1;31mKeyboardInterrupt\u001b[0m                         Traceback (most recent call last)",
      "\u001b[1;32m<ipython-input-18-331860fe44d6>\u001b[0m in \u001b[0;36m<module>\u001b[1;34m()\u001b[0m\n\u001b[1;32m----> 1\u001b[1;33m \u001b[0mtrainfor\u001b[0m\u001b[1;33m(\u001b[0m\u001b[1;36m1e9\u001b[0m\u001b[1;33m)\u001b[0m\u001b[1;33m\u001b[0m\u001b[0m\n\u001b[0m",
      "\u001b[1;32m<ipython-input-17-f4043a1e2fbe>\u001b[0m in \u001b[0;36mtrainfor\u001b[1;34m(epochs, save, gen)\u001b[0m\n\u001b[0;32m      6\u001b[0m         \u001b[0mcallbacks\u001b[0m\u001b[1;33m.\u001b[0m\u001b[0mappend\u001b[0m\u001b[1;33m(\u001b[0m\u001b[0mgen_callback\u001b[0m\u001b[1;33m)\u001b[0m\u001b[1;33m\u001b[0m\u001b[0m\n\u001b[0;32m      7\u001b[0m     model.fit_generator(generate_data(), int(5e3), epochs,\n\u001b[1;32m----> 8\u001b[1;33m         verbose=0, callbacks=callbacks)\n\u001b[0m",
      "\u001b[1;32mc:\\users\\troy\\anaconda3\\lib\\site-packages\\keras\\legacy\\interfaces.py\u001b[0m in \u001b[0;36mwrapper\u001b[1;34m(*args, **kwargs)\u001b[0m\n\u001b[0;32m     85\u001b[0m                 warnings.warn('Update your `' + object_name +\n\u001b[0;32m     86\u001b[0m                               '` call to the Keras 2 API: ' + signature, stacklevel=2)\n\u001b[1;32m---> 87\u001b[1;33m             \u001b[1;32mreturn\u001b[0m \u001b[0mfunc\u001b[0m\u001b[1;33m(\u001b[0m\u001b[1;33m*\u001b[0m\u001b[0margs\u001b[0m\u001b[1;33m,\u001b[0m \u001b[1;33m**\u001b[0m\u001b[0mkwargs\u001b[0m\u001b[1;33m)\u001b[0m\u001b[1;33m\u001b[0m\u001b[0m\n\u001b[0m\u001b[0;32m     88\u001b[0m         \u001b[0mwrapper\u001b[0m\u001b[1;33m.\u001b[0m\u001b[0m_original_function\u001b[0m \u001b[1;33m=\u001b[0m \u001b[0mfunc\u001b[0m\u001b[1;33m\u001b[0m\u001b[0m\n\u001b[0;32m     89\u001b[0m         \u001b[1;32mreturn\u001b[0m \u001b[0mwrapper\u001b[0m\u001b[1;33m\u001b[0m\u001b[0m\n",
      "\u001b[1;32mc:\\users\\troy\\anaconda3\\lib\\site-packages\\keras\\engine\\training.py\u001b[0m in \u001b[0;36mfit_generator\u001b[1;34m(self, generator, steps_per_epoch, epochs, verbose, callbacks, validation_data, validation_steps, class_weight, max_queue_size, workers, use_multiprocessing, initial_epoch)\u001b[0m\n\u001b[0;32m   1838\u001b[0m                     outs = self.train_on_batch(x, y,\n\u001b[0;32m   1839\u001b[0m                                                \u001b[0msample_weight\u001b[0m\u001b[1;33m=\u001b[0m\u001b[0msample_weight\u001b[0m\u001b[1;33m,\u001b[0m\u001b[1;33m\u001b[0m\u001b[0m\n\u001b[1;32m-> 1840\u001b[1;33m                                                class_weight=class_weight)\n\u001b[0m\u001b[0;32m   1841\u001b[0m \u001b[1;33m\u001b[0m\u001b[0m\n\u001b[0;32m   1842\u001b[0m                     \u001b[1;32mif\u001b[0m \u001b[1;32mnot\u001b[0m \u001b[0misinstance\u001b[0m\u001b[1;33m(\u001b[0m\u001b[0mouts\u001b[0m\u001b[1;33m,\u001b[0m \u001b[0mlist\u001b[0m\u001b[1;33m)\u001b[0m\u001b[1;33m:\u001b[0m\u001b[1;33m\u001b[0m\u001b[0m\n",
      "\u001b[1;32mc:\\users\\troy\\anaconda3\\lib\\site-packages\\keras\\engine\\training.py\u001b[0m in \u001b[0;36mtrain_on_batch\u001b[1;34m(self, x, y, sample_weight, class_weight)\u001b[0m\n\u001b[0;32m   1563\u001b[0m             \u001b[0mins\u001b[0m \u001b[1;33m=\u001b[0m \u001b[0mx\u001b[0m \u001b[1;33m+\u001b[0m \u001b[0my\u001b[0m \u001b[1;33m+\u001b[0m \u001b[0msample_weights\u001b[0m\u001b[1;33m\u001b[0m\u001b[0m\n\u001b[0;32m   1564\u001b[0m         \u001b[0mself\u001b[0m\u001b[1;33m.\u001b[0m\u001b[0m_make_train_function\u001b[0m\u001b[1;33m(\u001b[0m\u001b[1;33m)\u001b[0m\u001b[1;33m\u001b[0m\u001b[0m\n\u001b[1;32m-> 1565\u001b[1;33m         \u001b[0moutputs\u001b[0m \u001b[1;33m=\u001b[0m \u001b[0mself\u001b[0m\u001b[1;33m.\u001b[0m\u001b[0mtrain_function\u001b[0m\u001b[1;33m(\u001b[0m\u001b[0mins\u001b[0m\u001b[1;33m)\u001b[0m\u001b[1;33m\u001b[0m\u001b[0m\n\u001b[0m\u001b[0;32m   1566\u001b[0m         \u001b[1;32mif\u001b[0m \u001b[0mlen\u001b[0m\u001b[1;33m(\u001b[0m\u001b[0moutputs\u001b[0m\u001b[1;33m)\u001b[0m \u001b[1;33m==\u001b[0m \u001b[1;36m1\u001b[0m\u001b[1;33m:\u001b[0m\u001b[1;33m\u001b[0m\u001b[0m\n\u001b[0;32m   1567\u001b[0m             \u001b[1;32mreturn\u001b[0m \u001b[0moutputs\u001b[0m\u001b[1;33m[\u001b[0m\u001b[1;36m0\u001b[0m\u001b[1;33m]\u001b[0m\u001b[1;33m\u001b[0m\u001b[0m\n",
      "\u001b[1;32mc:\\users\\troy\\anaconda3\\lib\\site-packages\\keras\\backend\\tensorflow_backend.py\u001b[0m in \u001b[0;36m__call__\u001b[1;34m(self, inputs)\u001b[0m\n\u001b[0;32m   2266\u001b[0m         updated = session.run(self.outputs + [self.updates_op],\n\u001b[0;32m   2267\u001b[0m                               \u001b[0mfeed_dict\u001b[0m\u001b[1;33m=\u001b[0m\u001b[0mfeed_dict\u001b[0m\u001b[1;33m,\u001b[0m\u001b[1;33m\u001b[0m\u001b[0m\n\u001b[1;32m-> 2268\u001b[1;33m                               **self.session_kwargs)\n\u001b[0m\u001b[0;32m   2269\u001b[0m         \u001b[1;32mreturn\u001b[0m \u001b[0mupdated\u001b[0m\u001b[1;33m[\u001b[0m\u001b[1;33m:\u001b[0m\u001b[0mlen\u001b[0m\u001b[1;33m(\u001b[0m\u001b[0mself\u001b[0m\u001b[1;33m.\u001b[0m\u001b[0moutputs\u001b[0m\u001b[1;33m)\u001b[0m\u001b[1;33m]\u001b[0m\u001b[1;33m\u001b[0m\u001b[0m\n\u001b[0;32m   2270\u001b[0m \u001b[1;33m\u001b[0m\u001b[0m\n",
      "\u001b[1;32mc:\\users\\troy\\anaconda3\\lib\\site-packages\\tensorflow\\python\\client\\session.py\u001b[0m in \u001b[0;36mrun\u001b[1;34m(self, fetches, feed_dict, options, run_metadata)\u001b[0m\n\u001b[0;32m    787\u001b[0m     \u001b[1;32mtry\u001b[0m\u001b[1;33m:\u001b[0m\u001b[1;33m\u001b[0m\u001b[0m\n\u001b[0;32m    788\u001b[0m       result = self._run(None, fetches, feed_dict, options_ptr,\n\u001b[1;32m--> 789\u001b[1;33m                          run_metadata_ptr)\n\u001b[0m\u001b[0;32m    790\u001b[0m       \u001b[1;32mif\u001b[0m \u001b[0mrun_metadata\u001b[0m\u001b[1;33m:\u001b[0m\u001b[1;33m\u001b[0m\u001b[0m\n\u001b[0;32m    791\u001b[0m         \u001b[0mproto_data\u001b[0m \u001b[1;33m=\u001b[0m \u001b[0mtf_session\u001b[0m\u001b[1;33m.\u001b[0m\u001b[0mTF_GetBuffer\u001b[0m\u001b[1;33m(\u001b[0m\u001b[0mrun_metadata_ptr\u001b[0m\u001b[1;33m)\u001b[0m\u001b[1;33m\u001b[0m\u001b[0m\n",
      "\u001b[1;32mc:\\users\\troy\\anaconda3\\lib\\site-packages\\tensorflow\\python\\client\\session.py\u001b[0m in \u001b[0;36m_run\u001b[1;34m(self, handle, fetches, feed_dict, options, run_metadata)\u001b[0m\n\u001b[0;32m    995\u001b[0m     \u001b[1;32mif\u001b[0m \u001b[0mfinal_fetches\u001b[0m \u001b[1;32mor\u001b[0m \u001b[0mfinal_targets\u001b[0m\u001b[1;33m:\u001b[0m\u001b[1;33m\u001b[0m\u001b[0m\n\u001b[0;32m    996\u001b[0m       results = self._do_run(handle, final_targets, final_fetches,\n\u001b[1;32m--> 997\u001b[1;33m                              feed_dict_string, options, run_metadata)\n\u001b[0m\u001b[0;32m    998\u001b[0m     \u001b[1;32melse\u001b[0m\u001b[1;33m:\u001b[0m\u001b[1;33m\u001b[0m\u001b[0m\n\u001b[0;32m    999\u001b[0m       \u001b[0mresults\u001b[0m \u001b[1;33m=\u001b[0m \u001b[1;33m[\u001b[0m\u001b[1;33m]\u001b[0m\u001b[1;33m\u001b[0m\u001b[0m\n",
      "\u001b[1;32mc:\\users\\troy\\anaconda3\\lib\\site-packages\\tensorflow\\python\\client\\session.py\u001b[0m in \u001b[0;36m_do_run\u001b[1;34m(self, handle, target_list, fetch_list, feed_dict, options, run_metadata)\u001b[0m\n\u001b[0;32m   1130\u001b[0m     \u001b[1;32mif\u001b[0m \u001b[0mhandle\u001b[0m \u001b[1;32mis\u001b[0m \u001b[1;32mNone\u001b[0m\u001b[1;33m:\u001b[0m\u001b[1;33m\u001b[0m\u001b[0m\n\u001b[0;32m   1131\u001b[0m       return self._do_call(_run_fn, self._session, feed_dict, fetch_list,\n\u001b[1;32m-> 1132\u001b[1;33m                            target_list, options, run_metadata)\n\u001b[0m\u001b[0;32m   1133\u001b[0m     \u001b[1;32melse\u001b[0m\u001b[1;33m:\u001b[0m\u001b[1;33m\u001b[0m\u001b[0m\n\u001b[0;32m   1134\u001b[0m       return self._do_call(_prun_fn, self._session, handle, feed_dict,\n",
      "\u001b[1;32mc:\\users\\troy\\anaconda3\\lib\\site-packages\\tensorflow\\python\\client\\session.py\u001b[0m in \u001b[0;36m_do_call\u001b[1;34m(self, fn, *args)\u001b[0m\n\u001b[0;32m   1137\u001b[0m   \u001b[1;32mdef\u001b[0m \u001b[0m_do_call\u001b[0m\u001b[1;33m(\u001b[0m\u001b[0mself\u001b[0m\u001b[1;33m,\u001b[0m \u001b[0mfn\u001b[0m\u001b[1;33m,\u001b[0m \u001b[1;33m*\u001b[0m\u001b[0margs\u001b[0m\u001b[1;33m)\u001b[0m\u001b[1;33m:\u001b[0m\u001b[1;33m\u001b[0m\u001b[0m\n\u001b[0;32m   1138\u001b[0m     \u001b[1;32mtry\u001b[0m\u001b[1;33m:\u001b[0m\u001b[1;33m\u001b[0m\u001b[0m\n\u001b[1;32m-> 1139\u001b[1;33m       \u001b[1;32mreturn\u001b[0m \u001b[0mfn\u001b[0m\u001b[1;33m(\u001b[0m\u001b[1;33m*\u001b[0m\u001b[0margs\u001b[0m\u001b[1;33m)\u001b[0m\u001b[1;33m\u001b[0m\u001b[0m\n\u001b[0m\u001b[0;32m   1140\u001b[0m     \u001b[1;32mexcept\u001b[0m \u001b[0merrors\u001b[0m\u001b[1;33m.\u001b[0m\u001b[0mOpError\u001b[0m \u001b[1;32mas\u001b[0m \u001b[0me\u001b[0m\u001b[1;33m:\u001b[0m\u001b[1;33m\u001b[0m\u001b[0m\n\u001b[0;32m   1141\u001b[0m       \u001b[0mmessage\u001b[0m \u001b[1;33m=\u001b[0m \u001b[0mcompat\u001b[0m\u001b[1;33m.\u001b[0m\u001b[0mas_text\u001b[0m\u001b[1;33m(\u001b[0m\u001b[0me\u001b[0m\u001b[1;33m.\u001b[0m\u001b[0mmessage\u001b[0m\u001b[1;33m)\u001b[0m\u001b[1;33m\u001b[0m\u001b[0m\n",
      "\u001b[1;32mc:\\users\\troy\\anaconda3\\lib\\site-packages\\tensorflow\\python\\client\\session.py\u001b[0m in \u001b[0;36m_run_fn\u001b[1;34m(session, feed_dict, fetch_list, target_list, options, run_metadata)\u001b[0m\n\u001b[0;32m   1119\u001b[0m         return tf_session.TF_Run(session, options,\n\u001b[0;32m   1120\u001b[0m                                  \u001b[0mfeed_dict\u001b[0m\u001b[1;33m,\u001b[0m \u001b[0mfetch_list\u001b[0m\u001b[1;33m,\u001b[0m \u001b[0mtarget_list\u001b[0m\u001b[1;33m,\u001b[0m\u001b[1;33m\u001b[0m\u001b[0m\n\u001b[1;32m-> 1121\u001b[1;33m                                  status, run_metadata)\n\u001b[0m\u001b[0;32m   1122\u001b[0m \u001b[1;33m\u001b[0m\u001b[0m\n\u001b[0;32m   1123\u001b[0m     \u001b[1;32mdef\u001b[0m \u001b[0m_prun_fn\u001b[0m\u001b[1;33m(\u001b[0m\u001b[0msession\u001b[0m\u001b[1;33m,\u001b[0m \u001b[0mhandle\u001b[0m\u001b[1;33m,\u001b[0m \u001b[0mfeed_dict\u001b[0m\u001b[1;33m,\u001b[0m \u001b[0mfetch_list\u001b[0m\u001b[1;33m)\u001b[0m\u001b[1;33m:\u001b[0m\u001b[1;33m\u001b[0m\u001b[0m\n",
      "\u001b[1;31mKeyboardInterrupt\u001b[0m: "
     ]
    }
   ],
   "source": [
    "trainfor(1e9)"
   ]
  }
 ],
 "metadata": {
  "kernelspec": {
   "display_name": "Python 3",
   "language": "python",
   "name": "python3"
  },
  "language_info": {
   "codemirror_mode": {
    "name": "ipython",
    "version": 3
   },
   "file_extension": ".py",
   "mimetype": "text/x-python",
   "name": "python",
   "nbconvert_exporter": "python",
   "pygments_lexer": "ipython3",
   "version": "3.5.3"
  }
 },
 "nbformat": 4,
 "nbformat_minor": 2
}
